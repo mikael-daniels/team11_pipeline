{
  "nbformat": 4,
  "nbformat_minor": 0,
  "metadata": {
    "colab": {
      "name": "Loading.ipynb",
      "provenance": [],
      "collapsed_sections": [],
      "toc_visible": true,
      "include_colab_link": true
    },
    "kernelspec": {
      "name": "python3",
      "display_name": "Python 3"
    }
  },
  "cells": [
    {
      "cell_type": "markdown",
      "metadata": {
        "id": "view-in-github",
        "colab_type": "text"
      },
      "source": [
        "<a href=\"https://colab.research.google.com/github/mikael-daniels/team11_pipeline/blob/Extraction/Transforming.ipynb\" target=\"_parent\"><img src=\"https://colab.research.google.com/assets/colab-badge.svg\" alt=\"Open In Colab\"/></a>"
      ]
    },
    {
      "cell_type": "markdown",
      "metadata": {
        "id": "t6z7ncXirnv7",
        "colab_type": "text"
      },
      "source": [
        "# Building an ETL Pipeline\n",
        "\n",
        "As the second part of the predict for Gather, you will need to build a pipeline of functions in python which does the following:\n",
        "\n",
        "1. Function to connect to twitter and scrapes \"Eskom_SA\" tweets.\n",
        "<br>\n",
        "<br>\n",
        "2. Cleans/Processes the tweets from the scraped tweets which will create a dataframe with two new columns using the following functions: <br>\n",
        "&nbsp;&nbsp;&nbsp;&nbsp;&nbsp;&nbsp; a) Hashtag Remover from Analyse Functions\n",
        "<br>\n",
        "<br>\n",
        "3. Functions which connects to your SQL database and uploads the tweets into the table you store the tweets in the database."
      ]
    },
    {
      "cell_type": "code",
      "metadata": {
        "id": "jtYowqI_RiBL",
        "colab_type": "code",
        "colab": {}
      },
      "source": [
        "# General:\n",
        "import tweepy           # To consume Twitter's API\n",
        "import pandas as pd     # To handle data\n",
        "import numpy as np      # For numerical computation\n",
        "import json\n",
        "# For plotting and visualization:\n",
        "from IPython.display import display\n",
        "import pyodbc\n"
      ],
      "execution_count": 0,
      "outputs": []
    },
    {
      "cell_type": "markdown",
      "metadata": {
        "id": "EykRIHe8ykYS",
        "colab_type": "text"
      },
      "source": [
        "# Consumer and Access details\n",
        "\n",
        "Fill in your Consumer and Access details you should have recieved when applying for a Twitter API. "
      ]
    },
    {
      "cell_type": "code",
      "metadata": {
        "id": "lquylmvOnFvt",
        "colab_type": "code",
        "colab": {}
      },
      "source": [
        "# Consumer:\n",
        "CONSUMER_KEY    = \n",
        "CONSUMER_SECRET = \n",
        "\n",
        "# Access:\n",
        "ACCESS_TOKEN  = \n",
        "ACCESS_SECRET = "
      ],
      "execution_count": 0,
      "outputs": []
    },
    {
      "cell_type": "code",
      "metadata": {
        "id": "01RMZH30RiBU",
        "colab_type": "code",
        "colab": {}
      },
      "source": [
        "# API's setup:\n",
        "def twitter_setup():\n",
        "    \"\"\"\n",
        "    Utility function to setup the Twitter's API\n",
        "    with access and consumer keys from Twitter.\n",
        "    \"\"\"\n",
        "\n",
        "    # Authentication and access using keys:\n",
        "    auth = tweepy.OAuthHandler(CONSUMER_KEY, CONSUMER_SECRET)\n",
        "    auth.set_access_token(ACCESS_TOKEN, ACCESS_SECRET)\n",
        "\n",
        "    # Return API with authentication:\n",
        "    api = tweepy.API(auth, timeout=1000)\n",
        "    return api"
      ],
      "execution_count": 0,
      "outputs": []
    },
    {
      "cell_type": "markdown",
      "metadata": {
        "id": "I5nbkmC9vk8F",
        "colab_type": "text"
      },
      "source": [
        "# Function 1:\n",
        "\n",
        "Write a function which:\n",
        "- Scrapes _\"Eskom_SA\"_ tweets from Twitter. \n",
        "\n",
        "Function Specifications:\n",
        "- The function should return a dataframe with the scraped tweets with just the \"_Tweets_\" and \"_Date_\". \n",
        "- Will take in the ```consumer key,  consumer secret code, access token``` and ```access secret code```.\n",
        "\n",
        "NOTE:\n",
        "The dataframe should have the same column names as those in your SQL Database table where you store the tweets."
      ]
    },
    {
      "cell_type": "code",
      "metadata": {
        "id": "eF6Vnzl3RiBX",
        "colab_type": "code",
        "colab": {}
      },
      "source": [
        "def twitter_df(CONSUMER_KEY, CONSUMER_SECRET, ACCESS_TOKEN, ACCESS_SECRET ):\n",
        "    \n",
        "    ''' Return a new dataframe with data scraped from Twitter\n",
        "        \n",
        "        Args: 'CONSUMER_KEY', 'CONSUMER_SECRET', 'ACCESS_TOKEN', 'ACCESS_SECRET'\n",
        "\n",
        "        Returns: Dataframe with two columns: 'Tweets' and 'Date'\n",
        "    ''' \n",
        "    # Code Here\n",
        "    \n",
        "    return None"
      ],
      "execution_count": 0,
      "outputs": []
    },
    {
      "cell_type": "markdown",
      "metadata": {
        "id": "mkUQUNKzpUN2",
        "colab_type": "text"
      },
      "source": [
        "# Function 2: Removing hashtags and the municipalities\n",
        "\n",
        "Write a function which:\n",
        "- Uses the function you wrote in the Analyse section to extract the hashtags and municipalities into it's own column in a new data frame. \n",
        "\n",
        "Function Specifications:\n",
        "- The function should take in the pandas dataframe you created in Function 1 and return a new pandas dataframe. "
      ]
    },
    {
      "cell_type": "code",
      "metadata": {
        "id": "o12Z44mZRiBb",
        "colab_type": "code",
        "colab": {}
      },
      "source": [
        "twitter_df(CONSUMER_KEY, CONSUMER_SECRET, ACCESS_TOKEN, ACCESS_SECRET )"
      ],
      "execution_count": 0,
      "outputs": []
    },
    {
      "cell_type": "code",
      "metadata": {
        "id": "UOuThS2kRiBf",
        "colab_type": "code",
        "colab": {}
      },
      "source": [
        "def extract_municipality_hashtags(df):\n",
        "    \n",
        "    ''' Return a dataframe with hashtags and municipalities extracted, using dataframe obtained from Function 1\n",
        "\n",
        "        Args: 'df', Dataframe created by Function 1\n",
        "\n",
        "        Returns: Original dataframe, 'df', with two new columns, 'hashtags' and 'municipality'\n",
        "    '''\n",
        "    \n",
        "    ### Code Here\n",
        "    def extract_municipality_hashtags(df):\n",
        "    mun_dict = {'@CityofCTAlerts' : 'Cape Town',\n",
        "                '@CityPowerJhb' : 'Johannesburg',\n",
        "                '@eThekwiniM' : 'eThekwini' ,\n",
        "                '@EMMInfo' : 'Ekurhuleni',\n",
        "                '@centlecutility' : 'Mangaung',\n",
        "                '@NMBmunicipality' : 'Nelson Mandela Bay',\n",
        "                '@CityTshwane' : 'Tshwane'}\n",
        "\n",
        " \n",
        "    l = 0\n",
        "\n",
        "    for tweet in df['Tweets']:\n",
        "        tweet = tweet.split(' ')\n",
        "        for key in mun_dict.keys():\n",
        "            if key in tweet:\n",
        "                df.loc[l, 'municipality'] = mun_dict[key]\n",
        "           \n",
        "    l += 1\n",
        "\n",
        "    df['hashtags'] = df['Tweets'].str.lower().str.split()\n",
        "\n",
        "    i = 0\n",
        "\n",
        "    for tweet in df['hashtags']:\n",
        "        hashtags = []\n",
        "    for word in tweet:\n",
        "        if word.startswith('#'):\n",
        "            hashtags.append(word)\n",
        "            df.loc[i, 'hashtags'] = hashtags\n",
        "        if len(hashtags) == 0:\n",
        "            df.loc[i, 'hashtags'] = np.NaN\n",
        "        \n",
        "    i += 1\n",
        "    return df\n"
      ],
      "execution_count": 0,
      "outputs": []
    }
  ]
}