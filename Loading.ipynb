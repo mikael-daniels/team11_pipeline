{
  "nbformat": 4,
  "nbformat_minor": 0,
  "metadata": {
    "colab": {
      "name": "Loading.ipynb",
      "provenance": [],
      "collapsed_sections": []
    },
    "kernelspec": {
      "name": "python3",
      "display_name": "Python 3"
    }
  },
  "cells": [
    {
      "cell_type": "markdown",
      "metadata": {
        "id": "L9bXQ_k8xOjV",
        "colab_type": "text"
      },
      "source": [
        "# Function 3: Updating SQL Database with pyODBC\n",
        "\n",
        "Write a function which:\n",
        "- Connects and updates your SQL database. \n",
        "\n",
        "Function Specifications:\n",
        "- The function should take in a pandas dataframe created in Function 2. \n",
        "- Connect to your SQL database.\n",
        "- Update the table you store your tweets in.\n",
        "- Not return any output."
      ]
    },
    {
      "cell_type": "code",
      "metadata": {
        "id": "yqdiXb5JRiBo",
        "colab_type": "code",
        "colab": {}
      },
      "source": [
        "def pyodbc_twitter(connection, df, twitter_table):\n",
        "\n",
        "  ''' Update 'Tweets' table in our SQL database\n",
        "\n",
        "      Args: 'connection', 'df', 'twitter_table'\n",
        "\n",
        "      Returns: None, only updates the 'Twitter' table\n",
        "  '''\n",
        "\n",
        "  ### Code Here\n",
        "\n",
        "  return None "
      ],
      "execution_count": 0,
      "outputs": []
    }
  ]
}