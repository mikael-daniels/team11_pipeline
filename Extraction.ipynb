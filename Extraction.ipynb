{
  "nbformat": 4,
  "nbformat_minor": 0,
  "metadata": {
    "colab": {
      "name": "Copy of Extraction.ipynb",
      "provenance": [],
      "collapsed_sections": [],
      "include_colab_link": true
    },
    "kernelspec": {
      "name": "python3",
      "display_name": "Python 3"
    }
  },
  "cells": [
    {
      "cell_type": "markdown",
      "metadata": {
        "id": "view-in-github",
        "colab_type": "text"
      },
      "source": [
        "<a href=\"https://colab.research.google.com/github/mikael-daniels/team11_pipeline/blob/Transforming/Extraction.ipynb\" target=\"_parent\"><img src=\"https://colab.research.google.com/assets/colab-badge.svg\" alt=\"Open In Colab\"/></a>"
      ]
    },
    {
      "cell_type": "markdown",
      "metadata": {
        "id": "t6z7ncXirnv7",
        "colab_type": "text"
      },
      "source": [
        "# Building an ETL Pipeline\n",
        "\n",
        "As the second part of the predict for Gather, you will need to build a pipeline of functions in python which does the following:\n",
        "\n",
        "1. Function to connect to twitter and scrapes \"Eskom_SA\" tweets.\n",
        "<br>\n",
        "<br>\n",
        "2. Cleans/Processes the tweets from the scraped tweets which will create a dataframe with two new columns using the following functions: <br>\n",
        "&nbsp;&nbsp;&nbsp;&nbsp;&nbsp;&nbsp; a) Hashtag Remover from Analyse Functions\n",
        "<br>\n",
        "<br>\n",
        "3. Functions which connects to your SQL database and uploads the tweets into the table you store the tweets in the database."
      ]
    },
    {
      "cell_type": "code",
      "metadata": {
        "id": "jtYowqI_RiBL",
        "colab_type": "code",
        "colab": {}
      },
      "source": [
        "# General:\n",
        "import tweepy           # To consume Twitter's API\n",
        "import pandas as pd     # To handle data\n",
        "import numpy as np      # For numerical computation\n",
        "import json\n",
        "from datetime import datetime, timedelta\n",
        "# For plotting and visualization:\n",
        "from IPython.display import display\n",
        "# import pyodbc\n",
        "from datetime import datetime, timedelta\n"
      ],
      "execution_count": 0,
      "outputs": []
    },
    {
      "cell_type": "markdown",
      "metadata": {
        "id": "EykRIHe8ykYS",
        "colab_type": "text"
      },
      "source": [
        "# Consumer and Access details\n",
        "\n",
        "Fill in your Consumer and Access details you should have recieved when applying for a Twitter API. "
      ]
    },
    {
      "cell_type": "code",
      "metadata": {
        "id": "lquylmvOnFvt",
        "colab_type": "code",
        "colab": {}
      },
      "source": [
        "# Consumer:\n",
        "CONSUMER_KEY    = 'PDU7fauXIq4hZRdkJ62s3OYPT'\n",
        "CONSUMER_SECRET = 'D118AztFQ9y6irrMOKLKxuU6XLKiYznIZ5d93B4ZnO5SaAzHsB'\n",
        "\n",
        "# Access:\n",
        "ACCESS_TOKEN  = '2954682544-Ttwu770muNrhg4KQSY6N9RYGuK33Xs2V80q8Ms8'\n",
        "ACCESS_SECRET = '95idH7IMmvwO74eOwnDGVasxGZ4E8ftEoGEYPhfGWOmKh'"
      ],
      "execution_count": 0,
      "outputs": []
    },
    {
      "cell_type": "code",
      "metadata": {
        "id": "01RMZH30RiBU",
        "colab_type": "code",
        "colab": {}
      },
      "source": [
        "# API's setup:\n",
        "def twitter_setup():\n",
        "    \"\"\"\n",
        "    Utility function to setup the Twitter's API\n",
        "    with access and consumer keys from Twitter.\n",
        "    \"\"\"\n",
        "\n",
        "    # Authentication and access using keys:\n",
        "    auth = tweepy.OAuthHandler(CONSUMER_KEY, CONSUMER_SECRET)\n",
        "    auth.set_access_token(ACCESS_TOKEN, ACCESS_SECRET)\n",
        "\n",
        "    # Return API with authentication:\n",
        "    api = tweepy.API(auth, timeout=1000)\n",
        "    return api"
      ],
      "execution_count": 0,
      "outputs": []
    },
    {
      "cell_type": "markdown",
      "metadata": {
        "id": "I5nbkmC9vk8F",
        "colab_type": "text"
      },
      "source": [
        "# Function 1:\n",
        "\n",
        "Write a function which:\n",
        "- Scrapes _\"Eskom_SA\"_ tweets from Twitter. \n",
        "\n",
        "Function Specifications:\n",
        "- The function should return a dataframe with the scraped tweets with just the \"_Tweets_\" and \"_Date_\". \n",
        "- Will take in the ```consumer key,  consumer secret code, access token``` and ```access secret code```.\n",
        "\n",
        "NOTE:\n",
        "The dataframe should have the same column names as those in your SQL Database table where you store the tweets."
      ]
    },
    {
      "cell_type": "code",
      "metadata": {
        "id": "eF6Vnzl3RiBX",
        "colab_type": "code",
        "colab": {}
      },
      "source": [
        "def twitter_df(CONSUMER_KEY, CONSUMER_SECRET, ACCESS_TOKEN, ACCESS_SECRET ):\n",
        "    \n",
        "    ''' Return a new dataframe with data scraped from Twitter\n",
        "        \n",
        "        Args: 'CONSUMER_KEY', 'CONSUMER_SECRET', 'ACCESS_TOKEN', 'ACCESS_SECRET'\n",
        "\n",
        "        Returns: Dataframe with two columns: 'Tweets' and 'Date'\n",
        "    ''' \n",
        "    # Code Here\n",
        "    extractor = twitter_setup()\n",
        "    \n",
        "    # We create a tweet list as follows:\n",
        "    tweets = extractor.user_timeline(screen_name=\"Eskom_SA\", \n",
        "                                     count=100,\n",
        "                                     include_rts=False)\n",
        "    print(f\"Number of tweets extracted: {len(tweets)}.\\n\")\n",
        "    \n",
        "    # We create a pandas dataframe as follows:\n",
        "    data = pd.DataFrame(data=np.column_stack([[tweet.text for tweet in tweets],\n",
        "                                              [((tweet.created_at) + timedelta(hours=2)) for tweet in tweets]]),\n",
        "                                              columns=['Tweets','Date'])\n",
        "    \n",
        "    return data"
      ],
      "execution_count": 0,
      "outputs": []
    },
    {
      "cell_type": "code",
      "metadata": {
        "id": "k19hM6Y0M07z",
        "colab_type": "code",
        "outputId": "7558e19b-9405-4ede-b537-94ff84d3a435",
        "colab": {
          "base_uri": "https://localhost:8080/",
          "height": 289
        }
      },
      "source": [
        "print(twitter_df(CONSUMER_KEY, CONSUMER_SECRET, ACCESS_TOKEN, ACCESS_SECRET))"
      ],
      "execution_count": 6,
      "outputs": [
        {
          "output_type": "stream",
          "text": [
            "Number of tweets extracted: 96.\n",
            "\n",
            "                                               Tweets                Date\n",
            "0   Overhead power cables are normally suspended o... 2020-03-06 12:30:00\n",
            "1   Meter tampering is when you cause the meter to... 2020-03-06 10:30:00\n",
            "2   Interfering with or vandalising Eskom property... 2020-03-06 08:34:00\n",
            "3   #POWERALERT 1\\n\\nDate: 06 March 2020\\n\\nNo loa... 2020-03-06 07:54:58\n",
            "4   #Eskom #MediaStatement\\n\\nEskom notes allegati... 2020-03-05 21:28:53\n",
            "..                                                ...                 ...\n",
            "91  @nzuza18 Register your details on our careers ... 2020-02-26 11:13:32\n",
            "92  Only Eskom trained and authorized personnel ar... 2020-02-26 10:20:00\n",
            "93  #ESKOMFREESTATE #MEDIASTATEMENT\\n\\nNOTICE TO S... 2020-02-26 09:35:41\n",
            "94       @Bonolo_maphutha Thanks.  We will follow-up. 2020-02-26 09:27:41\n",
            "95  @tboymunyai @GautengProvince @GautengANC @EFFS... 2020-02-26 09:26:16\n",
            "\n",
            "[96 rows x 2 columns]\n"
          ],
          "name": "stdout"
        }
      ]
    },
    {
      "cell_type": "code",
      "metadata": {
        "id": "ZnXz5S07NJE9",
        "colab_type": "code",
        "colab": {}
      },
      "source": [
        ""
      ],
      "execution_count": 0,
      "outputs": []
    }
  ]
}