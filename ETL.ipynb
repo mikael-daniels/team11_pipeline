{
  "nbformat": 4,
  "nbformat_minor": 0,
  "metadata": {
    "colab": {
      "name": "ETL.ipynb",
      "provenance": [],
      "collapsed_sections": [],
      "include_colab_link": true
    },
    "kernelspec": {
      "display_name": "Python 3",
      "language": "python",
      "name": "python3"
    },
    "language_info": {
      "codemirror_mode": {
        "name": "ipython",
        "version": 3
      },
      "file_extension": ".py",
      "mimetype": "text/x-python",
      "name": "python",
      "nbconvert_exporter": "python",
      "pygments_lexer": "ipython3",
      "version": "3.7.4"
    }
  },
  "cells": [
    {
      "cell_type": "markdown",
      "metadata": {
        "id": "view-in-github",
        "colab_type": "text"
      },
      "source": [
        "<a href=\"https://colab.research.google.com/github/mikael-daniels/team11_pipeline/blob/master/ETL.ipynb\" target=\"_parent\"><img src=\"https://colab.research.google.com/assets/colab-badge.svg\" alt=\"Open In Colab\"/></a>"
      ]
    },
    {
      "cell_type": "markdown",
      "metadata": {
        "colab_type": "text",
        "id": "t6z7ncXirnv7"
      },
      "source": [
        "# Building an ETL Pipeline\n",
        "\n",
        "As the second part of the predict for Gather, you will need to build a pipeline of functions in python which does the following:\n",
        "\n",
        "1. Function to connect to twitter and scrapes \"Eskom_SA\" tweets.\n",
        "<br>\n",
        "<br>\n",
        "2. Cleans/Processes the tweets from the scraped tweets which will create a dataframe with two new columns using the following functions: <br>\n",
        "&nbsp;&nbsp;&nbsp;&nbsp;&nbsp;&nbsp; a) Hashtag Remover from Analyse Functions\n",
        "<br>\n",
        "<br>\n",
        "3. Functions which connects to your SQL database and uploads the tweets into the table you store the tweets in the database."
      ]
    },
    {
      "cell_type": "code",
      "metadata": {
        "colab_type": "code",
        "id": "jtYowqI_RiBL",
        "colab": {}
      },
      "source": [
        "# General:\n",
        "import tweepy           # To consume Twitter's API\n",
        "import pandas as pd     # To handle data\n",
        "import numpy as np      # For numerical computation\n",
        "import json\n",
        "# For plotting and visualization:\n",
        "from IPython.display import display\n",
        "import pyodbc\n"
      ],
      "execution_count": 0,
      "outputs": []
    },
    {
      "cell_type": "markdown",
      "metadata": {
        "colab_type": "text",
        "id": "EykRIHe8ykYS"
      },
      "source": [
        "# Consumer and Access details\n",
        "\n",
        "Fill in your Consumer and Access details you should have recieved when applying for a Twitter API. "
      ]
    },
    {
      "cell_type": "code",
      "metadata": {
        "colab_type": "code",
        "id": "lquylmvOnFvt",
        "colab": {}
      },
      "source": [
        "# Consumer:\n",
        "CONSUMER_KEY    = 'PDU7fauXIq4hZRdkJ62s3OYPT'\n",
        "CONSUMER_SECRET = 'D118AztFQ9y6irrMOKLKxuU6XLKiYznIZ5d93B4ZnO5SaAzHsB'\n",
        "\n",
        "# Access:\n",
        "ACCESS_TOKEN  = '2954682544-Ttwu770muNrhg4KQSY6N9RYGuK33Xs2V80q8Ms8'\n",
        "ACCESS_SECRET = '95idH7IMmvwO74eOwnDGVasxGZ4E8ftEoGEYPhfGWOmKh'"
      ],
      "execution_count": 0,
      "outputs": []
    },
    {
      "cell_type": "code",
      "metadata": {
        "colab_type": "code",
        "id": "01RMZH30RiBU",
        "colab": {}
      },
      "source": [
        "# API's setup:\n",
        "def twitter_setup():\n",
        "    \"\"\"\n",
        "    Utility function to setup the Twitter's API\n",
        "    with access and consumer keys from Twitter.\n",
        "    \"\"\"\n",
        "\n",
        "    # Authentication and access using keys:\n",
        "    auth = tweepy.OAuthHandler(CONSUMER_KEY, CONSUMER_SECRET)\n",
        "    auth.set_access_token(ACCESS_TOKEN, ACCESS_SECRET)\n",
        "\n",
        "    # Return API with authentication:\n",
        "    api = tweepy.API(auth, timeout=1000)\n",
        "    return api"
      ],
      "execution_count": 0,
      "outputs": []
    },
    {
      "cell_type": "markdown",
      "metadata": {
        "colab_type": "text",
        "id": "I5nbkmC9vk8F"
      },
      "source": [
        "# Function 1:\n",
        "\n",
        "Write a function which:\n",
        "- Scrapes _\"Eskom_SA\"_ tweets from Twitter. \n",
        "\n",
        "Function Specifications:\n",
        "- The function should return a dataframe with the scraped tweets with just the \"_Tweets_\" and \"_Date_\". \n",
        "- Will take in the ```consumer key,  consumer secret code, access token``` and ```access secret code```.\n",
        "\n",
        "NOTE:\n",
        "The dataframe should have the same column names as those in your SQL Database table where you store the tweets."
      ]
    },
    {
      "cell_type": "code",
      "metadata": {
        "colab_type": "code",
        "id": "eF6Vnzl3RiBX",
        "colab": {}
      },
      "source": [
        "def twitter_df(CONSUMER_KEY, CONSUMER_SECRET, ACCESS_TOKEN, ACCESS_SECRET ):\n",
        "    \n",
        "    ''' Return a new dataframe with data scraped from Twitter\n",
        "        \n",
        "        Args: 'CONSUMER_KEY', 'CONSUMER_SECRET', 'ACCESS_TOKEN', 'ACCESS_SECRET'\n",
        "\n",
        "        Returns: Dataframe with two columns: 'Tweets' and 'Date'\n",
        "    ''' \n",
        "    # Code Here\n",
        "    \n",
        "    extractor = twitter_setup()\n",
        "    \n",
        "    # We create a tweet list as follows:\n",
        "    \n",
        "    tweets = extractor.user_timeline(screen_name=\"Eskom_SA\", \n",
        "                                     count=100,\n",
        "                                     include_rts=False)\n",
        "    \n",
        "    print(f\"Number of tweets extracted: {len(tweets)}.\\n\")\n",
        "    \n",
        "    # We create a pandas dataframe as follows:\n",
        "    \n",
        "    data = pd.DataFrame(data=np.column_stack([[tweet.text for tweet in tweets],\n",
        "                                              [(tweet.created_at) for tweet in tweets]]),\n",
        "                                              columns=['Tweets','Date'])\n",
        "    \n",
        "    return data"
      ],
      "execution_count": 0,
      "outputs": []
    },
    {
      "cell_type": "markdown",
      "metadata": {
        "colab_type": "text",
        "id": "mkUQUNKzpUN2"
      },
      "source": [
        "# Function 2: Removing hashtags and the municipalities\n",
        "\n",
        "Write a function which:\n",
        "- Uses the function you wrote in the Analyse section to extract the hashtags and municipalities into it's own column in a new data frame. \n",
        "\n",
        "Function Specifications:\n",
        "- The function should take in the pandas dataframe you created in Function 1 and return a new pandas dataframe. "
      ]
    },
    {
      "cell_type": "code",
      "metadata": {
        "colab_type": "code",
        "id": "UOuThS2kRiBf",
        "colab": {}
      },
      "source": [
        "def extract_municipality_hashtags(df):\n",
        "    \n",
        "    ''' Return a dataframe with hashtags and municipalities extracted, using dataframe obtained from Function 1\n",
        "\n",
        "        Args: 'df', Dataframe created by Function 1\n",
        "\n",
        "        Returns: Original dataframe, 'df', with two new columns, 'hashtags' and 'municipality'\n",
        "    '''\n",
        "    mun_dict = {'@CityofCTAlerts' : 'Cape Town',\n",
        "                '@CityPowerJhb' : 'Johannesburg',\n",
        "                '@eThekwiniM' : 'eThekwini' ,\n",
        "                '@EMMInfo' : 'Ekurhuleni',\n",
        "                '@centlecutility' : 'Mangaung',\n",
        "                '@NMBmunicipality' : 'Nelson Mandela Bay',\n",
        "                '@CityTshwane' : 'Tshwane'}\n",
        "    \n",
        "    handles = list(mun_dict.keys())\n",
        "    \n",
        "    df['municipality'] = df['Tweets'].str.extract('({})'.format('|'.join(handles)), expand=False).fillna(np.nan)\n",
        "    df['municipality'] = df['municipality'].map(mun_dict)\n",
        "    \n",
        "    df['hashtags'] = df['Tweets'].str.findall(r'#.*?(?=\\s|$)')\n",
        "    df['hashtags'] = df['hashtags'].apply(lambda x: np.nan if len(x)==0 else [x.lower() for x in x])\n",
        "    \n",
        "\n",
        "    return df"
      ],
      "execution_count": 0,
      "outputs": []
    },
    {
      "cell_type": "markdown",
      "metadata": {
        "colab_type": "text",
        "id": "L9bXQ_k8xOjV"
      },
      "source": [
        "# Function 3: Updating SQL Database with pyODBC\n",
        "\n",
        "Write a function which:\n",
        "- Connects and updates your SQL database. \n",
        "\n",
        "Function Specifications:\n",
        "- The function should take in a pandas dataframe created in Function 2. \n",
        "- Connect to your SQL database.\n",
        "- Update the table you store your tweets in.\n",
        "- Not return any output."
      ]
    },
    {
      "cell_type": "code",
      "metadata": {
        "colab_type": "code",
        "id": "yqdiXb5JRiBo",
        "colab": {}
      },
      "source": [
        "def pyodbc_twitter(connection, df, twitter_table):\n",
        "\n",
        "    ''' Update 'Tweets' table in our SQL database\n",
        "\n",
        "      Args: 'connection', 'df', 'twitter_table'\n",
        "\n",
        "      Returns: None, only updates the 'Twitter' table\n",
        "    '''\n",
        "\n",
        "    ### Code Here\n",
        "    #make a cursor object using connection construct\n",
        "    cursor = connection.cursor()\n",
        "\n",
        "    #convert the dataframe to .csv file    \n",
        "    df.to_csv (r'C:\\Users\\monicafar147\\Desktop\\export_dataframe.csv', index = False, header=True)\n",
        "    \n",
        "    print('reading data from Tweets table in SQL:')    \n",
        "    tweets = pd.read_sql_query('select * from dbo.Tweets',connection)\n",
        "    display(tweets)\n",
        "    \n",
        "   \n",
        "    return None"
      ],
      "execution_count": 0,
      "outputs": []
    },
    {
      "cell_type": "code",
      "metadata": {
        "colab_type": "code",
        "id": "Z0SyneGoPQLp",
        "colab": {}
      },
      "source": [
        "connection = pyodbc.connect(driver='{SQL Server}',\n",
        "                      host='EDSA-3GKPSM2\\SQLEXPRESSMON',\n",
        "                      database='New Clean Database Gather',\n",
        "                      trusted_connection='tcon',\n",
        "                      user='sa')"
      ],
      "execution_count": 0,
      "outputs": []
    },
    {
      "cell_type": "code",
      "metadata": {
        "colab_type": "code",
        "id": "QDSex1o7uhsm",
        "outputId": "8c8e8628-631a-46ba-ff33-e0b50660ef68",
        "colab": {}
      },
      "source": [
        "twitter_table = twitter_df(CONSUMER_KEY, CONSUMER_SECRET, ACCESS_TOKEN, ACCESS_SECRET )"
      ],
      "execution_count": 0,
      "outputs": [
        {
          "output_type": "stream",
          "text": [
            "Number of tweets extracted: 89.\n",
            "\n"
          ],
          "name": "stdout"
        }
      ]
    },
    {
      "cell_type": "code",
      "metadata": {
        "id": "QwdSCVqALH6i",
        "colab_type": "code",
        "colab": {},
        "outputId": "e61dece7-4043-4a25-f72b-eb61bbdfa47c"
      },
      "source": [
        "new_df = extract_municipality_hashtags(twitter_table)\n",
        "new_df.head()"
      ],
      "execution_count": 0,
      "outputs": [
        {
          "output_type": "execute_result",
          "data": {
            "text/html": [
              "<div>\n",
              "<style scoped>\n",
              "    .dataframe tbody tr th:only-of-type {\n",
              "        vertical-align: middle;\n",
              "    }\n",
              "\n",
              "    .dataframe tbody tr th {\n",
              "        vertical-align: top;\n",
              "    }\n",
              "\n",
              "    .dataframe thead th {\n",
              "        text-align: right;\n",
              "    }\n",
              "</style>\n",
              "<table border=\"1\" class=\"dataframe\">\n",
              "  <thead>\n",
              "    <tr style=\"text-align: right;\">\n",
              "      <th></th>\n",
              "      <th>Tweets</th>\n",
              "      <th>Date</th>\n",
              "      <th>municipality</th>\n",
              "      <th>hashtags</th>\n",
              "    </tr>\n",
              "  </thead>\n",
              "  <tbody>\n",
              "    <tr>\n",
              "      <td>0</td>\n",
              "      <td>#POWERALERT 1\\n\\nDate: 11 March 2020\\n\\nStage ...</td>\n",
              "      <td>2020-03-11 09:58:19</td>\n",
              "      <td>NaN</td>\n",
              "      <td>[#poweralert]</td>\n",
              "    </tr>\n",
              "    <tr>\n",
              "      <td>1</td>\n",
              "      <td>We are currently loadshedding in stage 4.  \\n\\...</td>\n",
              "      <td>2020-03-11 07:42:17</td>\n",
              "      <td>NaN</td>\n",
              "      <td>NaN</td>\n",
              "    </tr>\n",
              "    <tr>\n",
              "      <td>...</td>\n",
              "      <td>...</td>\n",
              "      <td>...</td>\n",
              "      <td>...</td>\n",
              "      <td>...</td>\n",
              "    </tr>\n",
              "    <tr>\n",
              "      <td>3</td>\n",
              "      <td>Eskom is currently loadshedding in stage 2\\n\\n...</td>\n",
              "      <td>2020-03-11 03:39:22</td>\n",
              "      <td>NaN</td>\n",
              "      <td>NaN</td>\n",
              "    </tr>\n",
              "    <tr>\n",
              "      <td>4</td>\n",
              "      <td>#POWERALERT 3\\nDate: 10 March 2020\\n\\nStage 4 ...</td>\n",
              "      <td>2020-03-10 16:42:19</td>\n",
              "      <td>NaN</td>\n",
              "      <td>[#poweralert]</td>\n",
              "    </tr>\n",
              "  </tbody>\n",
              "</table>\n",
              "<p>5 rows × 4 columns</p>\n",
              "</div>"
            ],
            "text/plain": [
              "                                               Tweets                Date  \\\n",
              "0   #POWERALERT 1\\n\\nDate: 11 March 2020\\n\\nStage ... 2020-03-11 09:58:19   \n",
              "1   We are currently loadshedding in stage 4.  \\n\\... 2020-03-11 07:42:17   \n",
              "..                                                ...                 ...   \n",
              "3   Eskom is currently loadshedding in stage 2\\n\\n... 2020-03-11 03:39:22   \n",
              "4   #POWERALERT 3\\nDate: 10 March 2020\\n\\nStage 4 ... 2020-03-10 16:42:19   \n",
              "\n",
              "   municipality       hashtags  \n",
              "0           NaN  [#poweralert]  \n",
              "1           NaN            NaN  \n",
              "..          ...            ...  \n",
              "3           NaN            NaN  \n",
              "4           NaN  [#poweralert]  \n",
              "\n",
              "[5 rows x 4 columns]"
            ]
          },
          "metadata": {
            "tags": []
          },
          "execution_count": 26
        }
      ]
    },
    {
      "cell_type": "code",
      "metadata": {
        "id": "92CuzPb-LH6p",
        "colab_type": "code",
        "colab": {},
        "outputId": "09e5c0db-06dd-4d80-fe30-f73912007aa9"
      },
      "source": [
        "pyodbc_twitter(connection, new_df, twitter_table)"
      ],
      "execution_count": 0,
      "outputs": [
        {
          "output_type": "stream",
          "text": [
            "reading data from Tweets table in SQL:\n"
          ],
          "name": "stdout"
        },
        {
          "output_type": "display_data",
          "data": {
            "text/html": [
              "<div>\n",
              "<style scoped>\n",
              "    .dataframe tbody tr th:only-of-type {\n",
              "        vertical-align: middle;\n",
              "    }\n",
              "\n",
              "    .dataframe tbody tr th {\n",
              "        vertical-align: top;\n",
              "    }\n",
              "\n",
              "    .dataframe thead th {\n",
              "        text-align: right;\n",
              "    }\n",
              "</style>\n",
              "<table border=\"1\" class=\"dataframe\">\n",
              "  <thead>\n",
              "    <tr style=\"text-align: right;\">\n",
              "      <th></th>\n",
              "      <th>tweets</th>\n",
              "      <th>dates</th>\n",
              "      <th>municipality</th>\n",
              "      <th>hashtags</th>\n",
              "    </tr>\n",
              "  </thead>\n",
              "  <tbody>\n",
              "    <tr>\n",
              "      <td>0</td>\n",
              "      <td>#POWERALERT 1\\n\\nDate: 11 March 2020\\n\\nStage ...</td>\n",
              "      <td>2020-03-11 09:58:19</td>\n",
              "      <td>None</td>\n",
              "      <td>['#poweralert']</td>\n",
              "    </tr>\n",
              "    <tr>\n",
              "      <td>1</td>\n",
              "      <td>We are currently loadshedding in stage 4.  \\n\\...</td>\n",
              "      <td>2020-03-11 07:42:17</td>\n",
              "      <td>None</td>\n",
              "      <td>None</td>\n",
              "    </tr>\n",
              "    <tr>\n",
              "      <td>...</td>\n",
              "      <td>...</td>\n",
              "      <td>...</td>\n",
              "      <td>...</td>\n",
              "      <td>...</td>\n",
              "    </tr>\n",
              "    <tr>\n",
              "      <td>87</td>\n",
              "      <td>#POWERALERT 1\\nDate: 03 March 2020\\n\\nNo loads...</td>\n",
              "      <td>2020-03-03 06:30:54</td>\n",
              "      <td>None</td>\n",
              "      <td>['#poweralert']</td>\n",
              "    </tr>\n",
              "    <tr>\n",
              "      <td>88</td>\n",
              "      <td>Prepaid pricing is based on usage/ consumption...</td>\n",
              "      <td>2020-03-03 06:30:00</td>\n",
              "      <td>None</td>\n",
              "      <td>None</td>\n",
              "    </tr>\n",
              "  </tbody>\n",
              "</table>\n",
              "<p>89 rows × 4 columns</p>\n",
              "</div>"
            ],
            "text/plain": [
              "                                               tweets                dates  \\\n",
              "0   #POWERALERT 1\\n\\nDate: 11 March 2020\\n\\nStage ...  2020-03-11 09:58:19   \n",
              "1   We are currently loadshedding in stage 4.  \\n\\...  2020-03-11 07:42:17   \n",
              "..                                                ...                  ...   \n",
              "87  #POWERALERT 1\\nDate: 03 March 2020\\n\\nNo loads...  2020-03-03 06:30:54   \n",
              "88  Prepaid pricing is based on usage/ consumption...  2020-03-03 06:30:00   \n",
              "\n",
              "   municipality         hashtags  \n",
              "0          None  ['#poweralert']  \n",
              "1          None             None  \n",
              "..          ...              ...  \n",
              "87         None  ['#poweralert']  \n",
              "88         None             None  \n",
              "\n",
              "[89 rows x 4 columns]"
            ]
          },
          "metadata": {
            "tags": []
          }
        }
      ]
    },
    {
      "cell_type": "markdown",
      "metadata": {
        "colab_type": "text",
        "id": "ZHtbZabTuhsh"
      },
      "source": [
        "# Open SQLExpress and run the following queries\n",
        "- drop table Tweets\n",
        "\n",
        "- create table Tweets(tweets text,dates text, municipality text, hashtags text);\n",
        "\n",
        "- BULK INSERT Tweets\n",
        "FROM 'C:\\Users\\monicafar147\\Desktop\\export_dataframe.csv'\n",
        "WITH ( FORMAT='CSV');\n",
        "\n",
        "- select * from Tweets"
      ]
    },
    {
      "cell_type": "code",
      "metadata": {
        "colab_type": "code",
        "id": "Be4GWMNcuhss",
        "outputId": "01a4281f-2257-4531-8e03-b283e4126ce9",
        "colab": {}
      },
      "source": [
        "pyodbc_twitter(connection, new_df, twitter_table)"
      ],
      "execution_count": 0,
      "outputs": [
        {
          "output_type": "stream",
          "text": [
            "reading data from Tweets table in SQL:\n"
          ],
          "name": "stdout"
        },
        {
          "output_type": "display_data",
          "data": {
            "text/html": [
              "<div>\n",
              "<style scoped>\n",
              "    .dataframe tbody tr th:only-of-type {\n",
              "        vertical-align: middle;\n",
              "    }\n",
              "\n",
              "    .dataframe tbody tr th {\n",
              "        vertical-align: top;\n",
              "    }\n",
              "\n",
              "    .dataframe thead th {\n",
              "        text-align: right;\n",
              "    }\n",
              "</style>\n",
              "<table border=\"1\" class=\"dataframe\">\n",
              "  <thead>\n",
              "    <tr style=\"text-align: right;\">\n",
              "      <th></th>\n",
              "      <th>tweets</th>\n",
              "      <th>dates</th>\n",
              "      <th>municipality</th>\n",
              "      <th>hashtags</th>\n",
              "    </tr>\n",
              "  </thead>\n",
              "  <tbody>\n",
              "    <tr>\n",
              "      <td>0</td>\n",
              "      <td>#POWERALERT 1\\n\\nDate: 11 March 2020\\n\\nStage ...</td>\n",
              "      <td>2020-03-11 09:58:19</td>\n",
              "      <td>None</td>\n",
              "      <td>['#poweralert']</td>\n",
              "    </tr>\n",
              "    <tr>\n",
              "      <td>1</td>\n",
              "      <td>We are currently loadshedding in stage 4.  \\n\\...</td>\n",
              "      <td>2020-03-11 07:42:17</td>\n",
              "      <td>None</td>\n",
              "      <td>None</td>\n",
              "    </tr>\n",
              "    <tr>\n",
              "      <td>...</td>\n",
              "      <td>...</td>\n",
              "      <td>...</td>\n",
              "      <td>...</td>\n",
              "      <td>...</td>\n",
              "    </tr>\n",
              "    <tr>\n",
              "      <td>87</td>\n",
              "      <td>#POWERALERT 1\\nDate: 03 March 2020\\n\\nNo loads...</td>\n",
              "      <td>2020-03-03 06:30:54</td>\n",
              "      <td>None</td>\n",
              "      <td>['#poweralert']</td>\n",
              "    </tr>\n",
              "    <tr>\n",
              "      <td>88</td>\n",
              "      <td>Prepaid pricing is based on usage/ consumption...</td>\n",
              "      <td>2020-03-03 06:30:00</td>\n",
              "      <td>None</td>\n",
              "      <td>None</td>\n",
              "    </tr>\n",
              "  </tbody>\n",
              "</table>\n",
              "<p>89 rows × 4 columns</p>\n",
              "</div>"
            ],
            "text/plain": [
              "                                               tweets                dates  \\\n",
              "0   #POWERALERT 1\\n\\nDate: 11 March 2020\\n\\nStage ...  2020-03-11 09:58:19   \n",
              "1   We are currently loadshedding in stage 4.  \\n\\...  2020-03-11 07:42:17   \n",
              "..                                                ...                  ...   \n",
              "87  #POWERALERT 1\\nDate: 03 March 2020\\n\\nNo loads...  2020-03-03 06:30:54   \n",
              "88  Prepaid pricing is based on usage/ consumption...  2020-03-03 06:30:00   \n",
              "\n",
              "   municipality         hashtags  \n",
              "0          None  ['#poweralert']  \n",
              "1          None             None  \n",
              "..          ...              ...  \n",
              "87         None  ['#poweralert']  \n",
              "88         None             None  \n",
              "\n",
              "[89 rows x 4 columns]"
            ]
          },
          "metadata": {
            "tags": []
          }
        }
      ]
    },
    {
      "cell_type": "code",
      "metadata": {
        "id": "zLUulZWzLH63",
        "colab_type": "code",
        "colab": {}
      },
      "source": [
        ""
      ],
      "execution_count": 0,
      "outputs": []
    }
  ]
}