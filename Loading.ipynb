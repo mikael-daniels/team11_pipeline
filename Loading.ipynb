{
  "nbformat": 4,
  "nbformat_minor": 0,
  "metadata": {
    "colab": {
      "name": "Loading.ipynb",
      "provenance": [],
      "collapsed_sections": [],
      "include_colab_link": true
    },
    "kernelspec": {
      "display_name": "Python 3",
      "language": "python",
      "name": "python3"
    },
    "language_info": {
      "codemirror_mode": {
        "name": "ipython",
        "version": 3
      },
      "file_extension": ".py",
      "mimetype": "text/x-python",
      "name": "python",
      "nbconvert_exporter": "python",
      "pygments_lexer": "ipython3",
      "version": "3.7.4"
    }
  },
  "cells": [
    {
      "cell_type": "markdown",
      "metadata": {
        "id": "view-in-github",
        "colab_type": "text"
      },
      "source": [
        "<a href=\"https://colab.research.google.com/github/mikael-daniels/team11_pipeline/blob/Loading/Loading.ipynb\" target=\"_parent\"><img src=\"https://colab.research.google.com/assets/colab-badge.svg\" alt=\"Open In Colab\"/></a>"
      ]
    },
    {
      "cell_type": "markdown",
      "metadata": {
        "colab_type": "text",
        "id": "t6z7ncXirnv7"
      },
      "source": [
        "# Building an ETL Pipeline\n",
        "\n",
        "As the second part of the predict for Gather, you will need to build a pipeline of functions in python which does the following:\n",
        "\n",
        "1. Function to connect to twitter and scrapes \"Eskom_SA\" tweets.\n",
        "<br>\n",
        "<br>\n",
        "2. Cleans/Processes the tweets from the scraped tweets which will create a dataframe with two new columns using the following functions: <br>\n",
        "&nbsp;&nbsp;&nbsp;&nbsp;&nbsp;&nbsp; a) Hashtag Remover from Analyse Functions\n",
        "<br>\n",
        "<br>\n",
        "3. Functions which connects to your SQL database and uploads the tweets into the table you store the tweets in the database."
      ]
    },
    {
      "cell_type": "code",
      "metadata": {
        "colab_type": "code",
        "id": "jtYowqI_RiBL",
        "colab": {}
      },
      "source": [
        "# General:\n",
        "import tweepy           # To consume Twitter's API\n",
        "import pandas as pd     # To handle data\n",
        "import numpy as np      # For numerical computation\n",
        "import json\n",
        "# For plotting and visualization:\n",
        "from IPython.display import display\n",
        "import pyodbc\n"
      ],
      "execution_count": 0,
      "outputs": []
    },
    {
      "cell_type": "markdown",
      "metadata": {
        "colab_type": "text",
        "id": "EykRIHe8ykYS"
      },
      "source": [
        "# Consumer and Access details\n",
        "\n",
        "Fill in your Consumer and Access details you should have recieved when applying for a Twitter API. "
      ]
    },
    {
      "cell_type": "code",
      "metadata": {
        "colab_type": "code",
        "id": "lquylmvOnFvt",
        "colab": {}
      },
      "source": [
        "# Consumer:\n",
        "CONSUMER_KEY    = 'PDU7fauXIq4hZRdkJ62s3OYPT'\n",
        "CONSUMER_SECRET = 'D118AztFQ9y6irrMOKLKxuU6XLKiYznIZ5d93B4ZnO5SaAzHsB'\n",
        "\n",
        "# Access:\n",
        "ACCESS_TOKEN  = '2954682544-Ttwu770muNrhg4KQSY6N9RYGuK33Xs2V80q8Ms8'\n",
        "ACCESS_SECRET = '95idH7IMmvwO74eOwnDGVasxGZ4E8ftEoGEYPhfGWOmKh'"
      ],
      "execution_count": 0,
      "outputs": []
    },
    {
      "cell_type": "code",
      "metadata": {
        "colab_type": "code",
        "id": "01RMZH30RiBU",
        "colab": {}
      },
      "source": [
        "# API's setup:\n",
        "def twitter_setup():\n",
        "    \"\"\"\n",
        "    Utility function to setup the Twitter's API\n",
        "    with access and consumer keys from Twitter.\n",
        "    \"\"\"\n",
        "\n",
        "    # Authentication and access using keys:\n",
        "    auth = tweepy.OAuthHandler(CONSUMER_KEY, CONSUMER_SECRET)\n",
        "    auth.set_access_token(ACCESS_TOKEN, ACCESS_SECRET)\n",
        "\n",
        "    # Return API with authentication:\n",
        "    api = tweepy.API(auth, timeout=1000)\n",
        "    return api"
      ],
      "execution_count": 0,
      "outputs": []
    },
    {
      "cell_type": "markdown",
      "metadata": {
        "colab_type": "text",
        "id": "I5nbkmC9vk8F"
      },
      "source": [
        "# Function 1:\n",
        "\n",
        "Write a function which:\n",
        "- Scrapes _\"Eskom_SA\"_ tweets from Twitter. \n",
        "\n",
        "Function Specifications:\n",
        "- The function should return a dataframe with the scraped tweets with just the \"_Tweets_\" and \"_Date_\". \n",
        "- Will take in the ```consumer key,  consumer secret code, access token``` and ```access secret code```.\n",
        "\n",
        "NOTE:\n",
        "The dataframe should have the same column names as those in your SQL Database table where you store the tweets."
      ]
    },
    {
      "cell_type": "code",
      "metadata": {
        "colab_type": "code",
        "id": "eF6Vnzl3RiBX",
        "colab": {}
      },
      "source": [
        "def twitter_df(CONSUMER_KEY, CONSUMER_SECRET, ACCESS_TOKEN, ACCESS_SECRET ):\n",
        "    \n",
        "    ''' Return a new dataframe with data scraped from Twitter\n",
        "        \n",
        "        Args: 'CONSUMER_KEY', 'CONSUMER_SECRET', 'ACCESS_TOKEN', 'ACCESS_SECRET'\n",
        "\n",
        "        Returns: Dataframe with two columns: 'Tweets' and 'Date'\n",
        "    ''' \n",
        "    # Code Here\n",
        "    extractor = twitter_setup()\n",
        "    \n",
        "    # We create a tweet list as follows:\n",
        "    tweets = extractor.user_timeline(screen_name=\"Eskom_SA\", \n",
        "                                     count=100,\n",
        "                                     include_rts=False)\n",
        "    print(f\"Number of tweets extracted: {len(tweets)}.\\n\")\n",
        "    \n",
        "    # We create a pandas dataframe as follows:\n",
        "    data = pd.DataFrame(data=np.column_stack([[tweet.text for tweet in tweets],\n",
        "                                              [(tweet.created_at) for tweet in tweets]]),\n",
        "                                              columns=['Tweets','Date'])\n",
        "    # We display the first 10 elements of the dataframe:\n",
        "    #final_df = data.head(10)\n",
        "    \n",
        "    return data"
      ],
      "execution_count": 0,
      "outputs": []
    },
    {
      "cell_type": "markdown",
      "metadata": {
        "colab_type": "text",
        "id": "mkUQUNKzpUN2"
      },
      "source": [
        "# Function 2: Removing hashtags and the municipalities\n",
        "\n",
        "Write a function which:\n",
        "- Uses the function you wrote in the Analyse section to extract the hashtags and municipalities into it's own column in a new data frame. \n",
        "\n",
        "Function Specifications:\n",
        "- The function should take in the pandas dataframe you created in Function 1 and return a new pandas dataframe. "
      ]
    },
    {
      "cell_type": "code",
      "metadata": {
        "colab_type": "code",
        "id": "o12Z44mZRiBb",
        "colab": {},
        "outputId": "111197a8-50cc-4373-8ea0-6db7188d88f4"
      },
      "source": [
        "twitter_df(CONSUMER_KEY, CONSUMER_SECRET, ACCESS_TOKEN, ACCESS_SECRET )"
      ],
      "execution_count": 0,
      "outputs": [
        {
          "output_type": "stream",
          "text": [
            "Number of tweets extracted: 93.\n",
            "\n"
          ],
          "name": "stdout"
        },
        {
          "output_type": "execute_result",
          "data": {
            "text/html": [
              "<div>\n",
              "<style scoped>\n",
              "    .dataframe tbody tr th:only-of-type {\n",
              "        vertical-align: middle;\n",
              "    }\n",
              "\n",
              "    .dataframe tbody tr th {\n",
              "        vertical-align: top;\n",
              "    }\n",
              "\n",
              "    .dataframe thead th {\n",
              "        text-align: right;\n",
              "    }\n",
              "</style>\n",
              "<table border=\"1\" class=\"dataframe\">\n",
              "  <thead>\n",
              "    <tr style=\"text-align: right;\">\n",
              "      <th></th>\n",
              "      <th>Tweets</th>\n",
              "      <th>Date</th>\n",
              "    </tr>\n",
              "  </thead>\n",
              "  <tbody>\n",
              "    <tr>\n",
              "      <td>0</td>\n",
              "      <td>@TSIKALIRA Hi, pls DM us your contact details ...</td>\n",
              "      <td>2020-03-10 06:32:50</td>\n",
              "    </tr>\n",
              "    <tr>\n",
              "      <td>1</td>\n",
              "      <td>#POWERALERT 1\\nDate: 10 March 2020\\n\\nStage 2 ...</td>\n",
              "      <td>2020-03-10 05:37:17</td>\n",
              "    </tr>\n",
              "    <tr>\n",
              "      <td>2</td>\n",
              "      <td>Protect your electrical appliances by unpluggi...</td>\n",
              "      <td>2020-03-10 04:30:00</td>\n",
              "    </tr>\n",
              "    <tr>\n",
              "      <td>3</td>\n",
              "      <td>@Jeandre_S @CityTshwane @SABCNewsOnline @SABCR...</td>\n",
              "      <td>2020-03-09 17:32:41</td>\n",
              "    </tr>\n",
              "    <tr>\n",
              "      <td>4</td>\n",
              "      <td>@Antifreez777za @SikonathiM Please see our tim...</td>\n",
              "      <td>2020-03-09 17:26:55</td>\n",
              "    </tr>\n",
              "    <tr>\n",
              "      <td>...</td>\n",
              "      <td>...</td>\n",
              "      <td>...</td>\n",
              "    </tr>\n",
              "    <tr>\n",
              "      <td>88</td>\n",
              "      <td>Before you leave the house, switch off or unpl...</td>\n",
              "      <td>2020-03-02 04:10:00</td>\n",
              "    </tr>\n",
              "    <tr>\n",
              "      <td>89</td>\n",
              "      <td>#POWERALERT 1\\nDate: 01 March 2020\\n\\nNo loads...</td>\n",
              "      <td>2020-03-01 17:04:06</td>\n",
              "    </tr>\n",
              "    <tr>\n",
              "      <td>90</td>\n",
              "      <td>Report electricity theft anonymously to Eskom ...</td>\n",
              "      <td>2020-03-01 16:30:00</td>\n",
              "    </tr>\n",
              "    <tr>\n",
              "      <td>91</td>\n",
              "      <td>#PublicSafety: Make sure that you and your fam...</td>\n",
              "      <td>2020-03-01 13:06:00</td>\n",
              "    </tr>\n",
              "    <tr>\n",
              "      <td>92</td>\n",
              "      <td>Cable theft is one of the main reasons for con...</td>\n",
              "      <td>2020-03-01 10:32:00</td>\n",
              "    </tr>\n",
              "  </tbody>\n",
              "</table>\n",
              "<p>93 rows × 2 columns</p>\n",
              "</div>"
            ],
            "text/plain": [
              "                                               Tweets                Date\n",
              "0   @TSIKALIRA Hi, pls DM us your contact details ... 2020-03-10 06:32:50\n",
              "1   #POWERALERT 1\\nDate: 10 March 2020\\n\\nStage 2 ... 2020-03-10 05:37:17\n",
              "2   Protect your electrical appliances by unpluggi... 2020-03-10 04:30:00\n",
              "3   @Jeandre_S @CityTshwane @SABCNewsOnline @SABCR... 2020-03-09 17:32:41\n",
              "4   @Antifreez777za @SikonathiM Please see our tim... 2020-03-09 17:26:55\n",
              "..                                                ...                 ...\n",
              "88  Before you leave the house, switch off or unpl... 2020-03-02 04:10:00\n",
              "89  #POWERALERT 1\\nDate: 01 March 2020\\n\\nNo loads... 2020-03-01 17:04:06\n",
              "90  Report electricity theft anonymously to Eskom ... 2020-03-01 16:30:00\n",
              "91  #PublicSafety: Make sure that you and your fam... 2020-03-01 13:06:00\n",
              "92  Cable theft is one of the main reasons for con... 2020-03-01 10:32:00\n",
              "\n",
              "[93 rows x 2 columns]"
            ]
          },
          "metadata": {
            "tags": []
          },
          "execution_count": 5
        }
      ]
    },
    {
      "cell_type": "code",
      "metadata": {
        "colab_type": "code",
        "id": "UOuThS2kRiBf",
        "colab": {}
      },
      "source": [
        "def extract_municipality_hashtags(df):\n",
        "    \n",
        "    ''' Return a dataframe with hashtags and municipalities extracted, using dataframe obtained from Function 1\n",
        "\n",
        "        Args: 'df', Dataframe created by Function 1\n",
        "\n",
        "        Returns: Original dataframe, 'df', with two new columns, 'hashtags' and 'municipality'\n",
        "    '''\n",
        "    mun_dict = {'@CityofCTAlerts' : 'Cape Town',\n",
        "                '@CityPowerJhb' : 'Johannesburg',\n",
        "                '@eThekwiniM' : 'eThekwini' ,\n",
        "                '@EMMInfo' : 'Ekurhuleni',\n",
        "                '@centlecutility' : 'Mangaung',\n",
        "                '@NMBmunicipality' : 'Nelson Mandela Bay',\n",
        "                '@CityTshwane' : 'Tshwane'}\n",
        "\n",
        " \n",
        "    l = 0\n",
        "    for tweet in df['Tweets']:\n",
        "      tweet = tweet.split(' ')\n",
        "      for key in mun_dict.keys():\n",
        "        if key in tweet:\n",
        "          df.loc[l, 'municipality'] = mun_dict[key]       \n",
        "      l += 1\n",
        "\n",
        "    # Create 'hashtags' column: Mikael\n",
        "    df['hashtags'] = df['Tweets'].str.lower().str.split()\n",
        "\n",
        "    # Extract hashtags from Tweets: Monica\n",
        "    hashtagslist = []\n",
        "    i = 0\n",
        "    for tweet in df['hashtags']:\n",
        "      hashtags = []\n",
        "      for word in tweet:\n",
        "        if word.startswith('#'):\n",
        "          hashtags.append(word)\n",
        "      hashtagslist.append(hashtags)\n",
        "      i += 1\n",
        "    \n",
        "    df['hashtags'] = hashtagslist\n",
        "    # Fill empty values in 'hashtags' columns with np.nan: Courtney\n",
        "\n",
        "    return df"
      ],
      "execution_count": 0,
      "outputs": []
    },
    {
      "cell_type": "markdown",
      "metadata": {
        "colab_type": "text",
        "id": "L9bXQ_k8xOjV"
      },
      "source": [
        "# Function 3: Updating SQL Database with pyODBC\n",
        "\n",
        "Write a function which:\n",
        "- Connects and updates your SQL database. \n",
        "\n",
        "Function Specifications:\n",
        "- The function should take in a pandas dataframe created in Function 2. \n",
        "- Connect to your SQL database.\n",
        "- Update the table you store your tweets in.\n",
        "- Not return any output."
      ]
    },
    {
      "cell_type": "code",
      "metadata": {
        "colab_type": "code",
        "id": "yqdiXb5JRiBo",
        "colab": {}
      },
      "source": [
        "def pyodbc_twitter(connection, df, twitter_table):\n",
        "\n",
        "    ''' Update 'Tweets' table in our SQL database\n",
        "\n",
        "      Args: 'connection', 'df', 'twitter_table'\n",
        "\n",
        "      Returns: None, only updates the 'Twitter' table\n",
        "    '''\n",
        "\n",
        "    ### Code Here\n",
        "    #loading: Mikael\n",
        "    df = pd.read_sql_query('select * from dbo.all_stations',connection)\n",
        "    #updating tables in SQL: Monica\n",
        "\n",
        "    return df.head()"
      ],
      "execution_count": 0,
      "outputs": []
    },
    {
      "cell_type": "code",
      "metadata": {
        "colab_type": "code",
        "id": "Z0SyneGoPQLp",
        "colab": {}
      },
      "source": [
        "connection = pyodbc.connect(driver='{SQL Server}',\n",
        "                      host='EDSA-3GKPSM2\\SQLEXPRESSMON',\n",
        "                      database='gather_eskom_cleaned_columns',\n",
        "                      trusted_connection='tcon',\n",
        "                      user='sa')"
      ],
      "execution_count": 0,
      "outputs": []
    },
    {
      "cell_type": "code",
      "metadata": {
        "colab_type": "code",
        "id": "yP92dtK6PlI4",
        "colab": {},
        "outputId": "2c3aa1b5-89ef-4f7a-e1dd-53614bb98386"
      },
      "source": [
        "df = twitter_df(CONSUMER_KEY, CONSUMER_SECRET, ACCESS_TOKEN, ACCESS_SECRET )"
      ],
      "execution_count": 0,
      "outputs": [
        {
          "output_type": "stream",
          "text": [
            "Number of tweets extracted: 93.\n",
            "\n"
          ],
          "name": "stdout"
        }
      ]
    },
    {
      "cell_type": "code",
      "metadata": {
        "id": "18tvTfm4S2I1",
        "colab_type": "code",
        "colab": {}
      },
      "source": [
        "twitter_table = extract_municipality_hashtags(df)"
      ],
      "execution_count": 0,
      "outputs": []
    },
    {
      "cell_type": "code",
      "metadata": {
        "id": "6QzEno8_S2I4",
        "colab_type": "code",
        "colab": {},
        "outputId": "0b4e1dc5-df87-4bf0-b3f7-c43e578c539a"
      },
      "source": [
        "pyodbc_twitter(connection, df, twitter_table)"
      ],
      "execution_count": 0,
      "outputs": [
        {
          "output_type": "execute_result",
          "data": {
            "text/html": [
              "<div>\n",
              "<style scoped>\n",
              "    .dataframe tbody tr th:only-of-type {\n",
              "        vertical-align: middle;\n",
              "    }\n",
              "\n",
              "    .dataframe tbody tr th {\n",
              "        vertical-align: top;\n",
              "    }\n",
              "\n",
              "    .dataframe thead th {\n",
              "        text-align: right;\n",
              "    }\n",
              "</style>\n",
              "<table border=\"1\" class=\"dataframe\">\n",
              "  <thead>\n",
              "    <tr style=\"text-align: right;\">\n",
              "      <th></th>\n",
              "      <th>station_name</th>\n",
              "      <th>total_installed_capacity</th>\n",
              "      <th>total_nominal_capacity</th>\n",
              "      <th>location</th>\n",
              "      <th>station_type</th>\n",
              "    </tr>\n",
              "  </thead>\n",
              "  <tbody>\n",
              "    <tr>\n",
              "      <td>0</td>\n",
              "      <td>Acacia</td>\n",
              "      <td>171</td>\n",
              "      <td>171</td>\n",
              "      <td>Cape Town</td>\n",
              "      <td>Gas/liquid fuel turbine stations</td>\n",
              "    </tr>\n",
              "    <tr>\n",
              "      <td>1</td>\n",
              "      <td>Ankerlig</td>\n",
              "      <td>1338</td>\n",
              "      <td>1327</td>\n",
              "      <td>Atlantis</td>\n",
              "      <td>Gas/liquid fuel turbine stations</td>\n",
              "    </tr>\n",
              "    <tr>\n",
              "      <td>2</td>\n",
              "      <td>Arnot</td>\n",
              "      <td>2352</td>\n",
              "      <td>2232</td>\n",
              "      <td>Middelburg</td>\n",
              "      <td>Coal</td>\n",
              "    </tr>\n",
              "    <tr>\n",
              "      <td>3</td>\n",
              "      <td>Camden'</td>\n",
              "      <td>1561</td>\n",
              "      <td>1481</td>\n",
              "      <td>Ermelo</td>\n",
              "      <td>Coal</td>\n",
              "    </tr>\n",
              "    <tr>\n",
              "      <td>4</td>\n",
              "      <td>Colley Wobbles</td>\n",
              "      <td>42</td>\n",
              "      <td>0</td>\n",
              "      <td>Mbashe River</td>\n",
              "      <td>Hydroelectric stations</td>\n",
              "    </tr>\n",
              "  </tbody>\n",
              "</table>\n",
              "</div>"
            ],
            "text/plain": [
              "     station_name total_installed_capacity total_nominal_capacity  \\\n",
              "0          Acacia                      171                    171   \n",
              "1       Ankerlig                      1338                   1327   \n",
              "2           Arnot                     2352                   2232   \n",
              "3         Camden'                     1561                   1481   \n",
              "4  Colley Wobbles                       42                      0   \n",
              "\n",
              "       location                      station_type  \n",
              "0    Cape Town   Gas/liquid fuel turbine stations  \n",
              "1      Atlantis  Gas/liquid fuel turbine stations  \n",
              "2    Middelburg                              Coal  \n",
              "3        Ermelo                              Coal  \n",
              "4  Mbashe River            Hydroelectric stations  "
            ]
          },
          "metadata": {
            "tags": []
          },
          "execution_count": 24
        }
      ]
    },
    {
      "cell_type": "code",
      "metadata": {
        "id": "Hr7he5S5S2I7",
        "colab_type": "code",
        "colab": {}
      },
      "source": [
        ""
      ],
      "execution_count": 0,
      "outputs": []
    }
  ]
}