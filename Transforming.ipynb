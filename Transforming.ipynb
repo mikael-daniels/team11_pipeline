{
  "nbformat": 4,
  "nbformat_minor": 0,
  "metadata": {
    "colab": {
      "name": "Transforming.ipynb",
      "provenance": [],
      "collapsed_sections": []
    },
    "kernelspec": {
      "name": "python3",
      "display_name": "Python 3"
    }
  },
  "cells": [
    {
      "cell_type": "markdown",
      "metadata": {
        "id": "I5nbkmC9vk8F",
        "colab_type": "text"
      },
      "source": [
        "# Function 1:\n",
        "\n",
        "Write a function which:\n",
        "- Scrapes _\"Eskom_SA\"_ tweets from Twitter. \n",
        "\n",
        "Function Specifications:\n",
        "- The function should return a dataframe with the scraped tweets with just the \"_Tweets_\" and \"_Date_\". \n",
        "- Will take in the ```consumer key,  consumer secret code, access token``` and ```access secret code```.\n",
        "\n",
        "NOTE:\n",
        "The dataframe should have the same column names as those in your SQL Database table where you store the tweets."
      ]
    },
    {
      "cell_type": "code",
      "metadata": {
        "id": "eF6Vnzl3RiBX",
        "colab_type": "code",
        "colab": {}
      },
      "source": [
        "def twitter_df(CONSUMER_KEY, CONSUMER_SECRET, ACCESS_TOKEN, ACCESS_SECRET ):\n",
        "    \n",
        "    ''' Return a new dataframe with data scraped from Twitter\n",
        "        \n",
        "        Args: 'CONSUMER_KEY', 'CONSUMER_SECRET', 'ACCESS_TOKEN', 'ACCESS_SECRET'\n",
        "\n",
        "        Returns: Dataframe with two columns: 'Tweets' and 'Date'\n",
        "    ''' \n",
        "    # Code Here\n",
        "    \n",
        "    return None"
      ],
      "execution_count": 0,
      "outputs": []
    },
    {
      "cell_type": "markdown",
      "metadata": {
        "id": "mkUQUNKzpUN2",
        "colab_type": "text"
      },
      "source": [
        "# Function 2: Removing hashtags and the municipalities\n",
        "\n",
        "Write a function which:\n",
        "- Uses the function you wrote in the Analyse section to extract the hashtags and municipalities into it's own column in a new data frame. \n",
        "\n",
        "Function Specifications:\n",
        "- The function should take in the pandas dataframe you created in Function 1 and return a new pandas dataframe. "
      ]
    },
    {
      "cell_type": "code",
      "metadata": {
        "id": "o12Z44mZRiBb",
        "colab_type": "code",
        "colab": {}
      },
      "source": [
        "twitter_df(CONSUMER_KEY, CONSUMER_SECRET, ACCESS_TOKEN, ACCESS_SECRET )"
      ],
      "execution_count": 0,
      "outputs": []
    },
    {
      "cell_type": "code",
      "metadata": {
        "id": "UOuThS2kRiBf",
        "colab_type": "code",
        "colab": {}
      },
      "source": [
        "def extract_municipality_hashtags(df):\n",
        "    \n",
        "    ''' Return a dataframe with hashtags and municipalities extracted, using dataframe obtained from Function 1\n",
        "\n",
        "        Args: 'df', Dataframe created by Function 1\n",
        "\n",
        "        Returns: Original dataframe, 'df', with two new columns, 'hashtags' and 'municipality'\n",
        "    '''\n",
        "    \n",
        "    ### Code Here\n",
        "    \n",
        "    return None"
      ],
      "execution_count": 0,
      "outputs": []
    }
  ]
}