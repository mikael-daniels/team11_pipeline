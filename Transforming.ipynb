{
  "nbformat": 4,
  "nbformat_minor": 0,
  "metadata": {
    "colab": {
      "name": "Loading.ipynb",
      "provenance": [],
      "collapsed_sections": [],
      "toc_visible": true,
      "include_colab_link": true
    },
    "kernelspec": {
      "name": "python3",
      "display_name": "Python 3"
    }
  },
  "cells": [
    {
      "cell_type": "markdown",
      "metadata": {
        "id": "view-in-github",
        "colab_type": "text"
      },
      "source": [
        "<a href=\"https://colab.research.google.com/github/mikael-daniels/team11_pipeline/blob/master/Transforming.ipynb\" target=\"_parent\"><img src=\"https://colab.research.google.com/assets/colab-badge.svg\" alt=\"Open In Colab\"/></a>"
      ]
    },
    {
      "cell_type": "markdown",
      "metadata": {
        "id": "t6z7ncXirnv7",
        "colab_type": "text"
      },
      "source": [
        "# Building an ETL Pipeline\n",
        "\n",
        "As the second part of the predict for Gather, you will need to build a pipeline of functions in python which does the following:\n",
        "\n",
        "1. Function to connect to twitter and scrapes \"Eskom_SA\" tweets.\n",
        "<br>\n",
        "<br>\n",
        "2. Cleans/Processes the tweets from the scraped tweets which will create a dataframe with two new columns using the following functions: <br>\n",
        "&nbsp;&nbsp;&nbsp;&nbsp;&nbsp;&nbsp; a) Hashtag Remover from Analyse Functions\n",
        "<br>\n",
        "<br>\n",
        "3. Functions which connects to your SQL database and uploads the tweets into the table you store the tweets in the database."
      ]
    },
    {
      "cell_type": "code",
      "metadata": {
        "id": "jtYowqI_RiBL",
        "colab_type": "code",
        "colab": {}
      },
      "source": [
        "# General:\n",
        "import tweepy           # To consume Twitter's API\n",
        "import pandas as pd     # To handle data\n",
        "import numpy as np      # For numerical computation\n",
        "import json\n",
        "# For plotting and visualization:\n",
        "from IPython.display import display\n",
        "#import pyodbc\n"
      ],
      "execution_count": 0,
      "outputs": []
    },
    {
      "cell_type": "markdown",
      "metadata": {
        "id": "EykRIHe8ykYS",
        "colab_type": "text"
      },
      "source": [
        "# Consumer and Access details\n",
        "\n",
        "Fill in your Consumer and Access details you should have recieved when applying for a Twitter API. "
      ]
    },
    {
      "cell_type": "code",
      "metadata": {
        "id": "lquylmvOnFvt",
        "colab_type": "code",
        "colab": {}
      },
      "source": [
        "# Consumer:\n",
        "CONSUMER_KEY    = '**************************'\n",
        "CONSUMER_SECRET = '**************************************'\n",
        "\n",
        "# Access:\n",
        "ACCESS_TOKEN  = '*********************************************'\n",
        "ACCESS_SECRET = '*********************************************'"
      ],
      "execution_count": 0,
      "outputs": []
    },
    {
      "cell_type": "code",
      "metadata": {
        "id": "01RMZH30RiBU",
        "colab_type": "code",
        "colab": {}
      },
      "source": [
        "# API's setup:\n",
        "def twitter_setup():\n",
        "    \"\"\"\n",
        "    Utility function to setup the Twitter's API\n",
        "    with access and consumer keys from Twitter.\n",
        "    \"\"\"\n",
        "\n",
        "    # Authentication and access using keys:\n",
        "    auth = tweepy.OAuthHandler(CONSUMER_KEY, CONSUMER_SECRET)\n",
        "    auth.set_access_token(ACCESS_TOKEN, ACCESS_SECRET)\n",
        "\n",
        "    # Return API with authentication:\n",
        "    api = tweepy.API(auth, timeout=1000)\n",
        "    return api"
      ],
      "execution_count": 0,
      "outputs": []
    },
    {
      "cell_type": "markdown",
      "metadata": {
        "id": "I5nbkmC9vk8F",
        "colab_type": "text"
      },
      "source": [
        "# Function 1:\n",
        "\n",
        "Write a function which:\n",
        "- Scrapes _\"Eskom_SA\"_ tweets from Twitter. \n",
        "\n",
        "Function Specifications:\n",
        "- The function should return a dataframe with the scraped tweets with just the \"_Tweets_\" and \"_Date_\". \n",
        "- Will take in the ```consumer key,  consumer secret code, access token``` and ```access secret code```.\n",
        "\n",
        "NOTE:\n",
        "The dataframe should have the same column names as those in your SQL Database table where you store the tweets."
      ]
    },
    {
      "cell_type": "code",
      "metadata": {
        "id": "eF6Vnzl3RiBX",
        "colab_type": "code",
        "colab": {}
      },
      "source": [
        "def twitter_df(CONSUMER_KEY, CONSUMER_SECRET, ACCESS_TOKEN, ACCESS_SECRET ):\n",
        "    \n",
        "    ''' Return a new dataframe with data scraped from Twitter\n",
        "        \n",
        "        Args: 'CONSUMER_KEY', 'CONSUMER_SECRET', 'ACCESS_TOKEN', 'ACCESS_SECRET'\n",
        "\n",
        "        Returns: Dataframe with two columns: 'Tweets' and 'Date'\n",
        "    ''' \n",
        "    # Code Here\n",
        "    extractor = twitter_setup()\n",
        "    \n",
        "    # We create a tweet list as follows:\n",
        "    tweets = extractor.user_timeline(screen_name=\"Eskom_SA\", \n",
        "                                     count=100,\n",
        "                                     include_rts=False)\n",
        "    print(f\"Number of tweets extracted: {len(tweets)}.\\n\")\n",
        "    \n",
        "    # We create a pandas dataframe as follows:\n",
        "    data = pd.DataFrame(data=np.column_stack([[tweet.text for tweet in tweets],\n",
        "                                              [(tweet.created_at) for tweet in tweets]]),\n",
        "                                              columns=['Tweets','Date'])\n",
        "    # We display the first 10 elements of the dataframe:\n",
        "    #final_df = data.head(10)\n",
        "    \n",
        "    return data"
      ],
      "execution_count": 0,
      "outputs": []
    },
    {
      "cell_type": "markdown",
      "metadata": {
        "id": "mkUQUNKzpUN2",
        "colab_type": "text"
      },
      "source": [
        "# Function 2: Removing hashtags and the municipalities\n",
        "\n",
        "Write a function which:\n",
        "- Uses the function you wrote in the Analyse section to extract the hashtags and municipalities into it's own column in a new data frame. \n",
        "\n",
        "Function Specifications:\n",
        "- The function should take in the pandas dataframe you created in Function 1 and return a new pandas dataframe. "
      ]
    },
    {
      "cell_type": "code",
      "metadata": {
        "id": "o12Z44mZRiBb",
        "colab_type": "code",
        "outputId": "9e89c8ce-4d37-4584-9930-a35be0a37ea8",
        "colab": {
          "base_uri": "https://localhost:8080/",
          "height": 453
        }
      },
      "source": [
        "twitter_df(CONSUMER_KEY, CONSUMER_SECRET, ACCESS_TOKEN, ACCESS_SECRET )"
      ],
      "execution_count": 0,
      "outputs": [
        {
          "output_type": "stream",
          "text": [
            "Number of tweets extracted: 96.\n",
            "\n"
          ],
          "name": "stdout"
        },
        {
          "output_type": "execute_result",
          "data": {
            "text/html": [
              "<div>\n",
              "<style scoped>\n",
              "    .dataframe tbody tr th:only-of-type {\n",
              "        vertical-align: middle;\n",
              "    }\n",
              "\n",
              "    .dataframe tbody tr th {\n",
              "        vertical-align: top;\n",
              "    }\n",
              "\n",
              "    .dataframe thead th {\n",
              "        text-align: right;\n",
              "    }\n",
              "</style>\n",
              "<table border=\"1\" class=\"dataframe\">\n",
              "  <thead>\n",
              "    <tr style=\"text-align: right;\">\n",
              "      <th></th>\n",
              "      <th>Tweets</th>\n",
              "      <th>Date</th>\n",
              "    </tr>\n",
              "  </thead>\n",
              "  <tbody>\n",
              "    <tr>\n",
              "      <th>0</th>\n",
              "      <td>Meter tampering is when you cause the meter to...</td>\n",
              "      <td>2020-03-06 08:30:00</td>\n",
              "    </tr>\n",
              "    <tr>\n",
              "      <th>1</th>\n",
              "      <td>Interfering with or vandalising Eskom property...</td>\n",
              "      <td>2020-03-06 06:34:00</td>\n",
              "    </tr>\n",
              "    <tr>\n",
              "      <th>2</th>\n",
              "      <td>#POWERALERT 1\\n\\nDate: 06 March 2020\\n\\nNo loa...</td>\n",
              "      <td>2020-03-06 05:54:58</td>\n",
              "    </tr>\n",
              "    <tr>\n",
              "      <th>3</th>\n",
              "      <td>#Eskom #MediaStatement\\n\\nEskom notes allegati...</td>\n",
              "      <td>2020-03-05 19:28:53</td>\n",
              "    </tr>\n",
              "    <tr>\n",
              "      <th>4</th>\n",
              "      <td>DYK that you can report #poweroutages on MyEsk...</td>\n",
              "      <td>2020-03-05 16:00:00</td>\n",
              "    </tr>\n",
              "    <tr>\n",
              "      <th>...</th>\n",
              "      <td>...</td>\n",
              "      <td>...</td>\n",
              "    </tr>\n",
              "    <tr>\n",
              "      <th>91</th>\n",
              "      <td>Only Eskom trained and authorized personnel ar...</td>\n",
              "      <td>2020-02-26 08:20:00</td>\n",
              "    </tr>\n",
              "    <tr>\n",
              "      <th>92</th>\n",
              "      <td>#ESKOMFREESTATE #MEDIASTATEMENT\\n\\nNOTICE TO S...</td>\n",
              "      <td>2020-02-26 07:35:41</td>\n",
              "    </tr>\n",
              "    <tr>\n",
              "      <th>93</th>\n",
              "      <td>@Bonolo_maphutha Thanks.  We will follow-up.</td>\n",
              "      <td>2020-02-26 07:27:41</td>\n",
              "    </tr>\n",
              "    <tr>\n",
              "      <th>94</th>\n",
              "      <td>@tboymunyai @GautengProvince @GautengANC @EFFS...</td>\n",
              "      <td>2020-02-26 07:26:16</td>\n",
              "    </tr>\n",
              "    <tr>\n",
              "      <th>95</th>\n",
              "      <td>@tboymunyai @GautengProvince @GautengANC @EFFS...</td>\n",
              "      <td>2020-02-26 07:18:28</td>\n",
              "    </tr>\n",
              "  </tbody>\n",
              "</table>\n",
              "<p>96 rows × 2 columns</p>\n",
              "</div>"
            ],
            "text/plain": [
              "                                               Tweets                Date\n",
              "0   Meter tampering is when you cause the meter to... 2020-03-06 08:30:00\n",
              "1   Interfering with or vandalising Eskom property... 2020-03-06 06:34:00\n",
              "2   #POWERALERT 1\\n\\nDate: 06 March 2020\\n\\nNo loa... 2020-03-06 05:54:58\n",
              "3   #Eskom #MediaStatement\\n\\nEskom notes allegati... 2020-03-05 19:28:53\n",
              "4   DYK that you can report #poweroutages on MyEsk... 2020-03-05 16:00:00\n",
              "..                                                ...                 ...\n",
              "91  Only Eskom trained and authorized personnel ar... 2020-02-26 08:20:00\n",
              "92  #ESKOMFREESTATE #MEDIASTATEMENT\\n\\nNOTICE TO S... 2020-02-26 07:35:41\n",
              "93       @Bonolo_maphutha Thanks.  We will follow-up. 2020-02-26 07:27:41\n",
              "94  @tboymunyai @GautengProvince @GautengANC @EFFS... 2020-02-26 07:26:16\n",
              "95  @tboymunyai @GautengProvince @GautengANC @EFFS... 2020-02-26 07:18:28\n",
              "\n",
              "[96 rows x 2 columns]"
            ]
          },
          "metadata": {
            "tags": []
          },
          "execution_count": 5
        }
      ]
    },
    {
      "cell_type": "code",
      "metadata": {
        "id": "UOuThS2kRiBf",
        "colab_type": "code",
        "colab": {}
      },
      "source": [
        "def extract_municipality_hashtags(df):\n",
        "    \n",
        "    ''' Return a dataframe with hashtags and municipalities extracted, using dataframe obtained from Function 1\n",
        "\n",
        "        Args: 'df', Dataframe created by Function 1\n",
        "\n",
        "        Returns: Original dataframe, 'df', with two new columns, 'hashtags' and 'municipality'\n",
        "    '''\n",
        "    mun_dict = {'@CityofCTAlerts' : 'Cape Town',\n",
        "                '@CityPowerJhb' : 'Johannesburg',\n",
        "                '@eThekwiniM' : 'eThekwini' ,\n",
        "                '@EMMInfo' : 'Ekurhuleni',\n",
        "                '@centlecutility' : 'Mangaung',\n",
        "                '@NMBmunicipality' : 'Nelson Mandela Bay',\n",
        "                '@CityTshwane' : 'Tshwane'}\n",
        "\n",
        " \n",
        "    l = 0\n",
        "    for tweet in df['Tweets']:\n",
        "      tweet = tweet.split(' ')\n",
        "      for key in mun_dict.keys():\n",
        "        if key in tweet:\n",
        "          df.loc[l, 'municipality'] = mun_dict[key]       \n",
        "      l += 1\n",
        "\n",
        "    # Create 'hashtags' column: Mikael\n",
        "    df['hashtags'] = df['Tweets'].str.lower().str.split()\n",
        "\n",
        "    # Extract hashtags from Tweets: Monica\n",
        "    hashtagslist = []\n",
        "    i = 0\n",
        "    for tweet in df['hashtags']:\n",
        "      hashtags = []\n",
        "      for word in tweet:\n",
        "        if word.startswith('#'):\n",
        "          hashtags.append(word)\n",
        "      hashtagslist.append(hashtags)\n",
        "      i += 1\n",
        "    \n",
        "    df['hashtags'] = hashtagslist\n",
        "    # Fill empty values in 'hashtags' columns with np.nan: Courtney\n",
        "\n",
        "    return df\n"
      ],
      "execution_count": 0,
      "outputs": []
    },
    {
      "cell_type": "code",
      "metadata": {
        "id": "oIbedFyf_yp_",
        "colab_type": "code",
        "outputId": "420eb659-4ac1-47db-9b63-256228b1b67c",
        "colab": {
          "base_uri": "https://localhost:8080/",
          "height": 453
        }
      },
      "source": [
        "extract_municipality_hashtags(twitter_df(CONSUMER_KEY, CONSUMER_SECRET, ACCESS_TOKEN, ACCESS_SECRET))"
      ],
      "execution_count": 0,
      "outputs": [
        {
          "output_type": "stream",
          "text": [
            "Number of tweets extracted: 96.\n",
            "\n"
          ],
          "name": "stdout"
        },
        {
          "output_type": "execute_result",
          "data": {
            "text/html": [
              "<div>\n",
              "<style scoped>\n",
              "    .dataframe tbody tr th:only-of-type {\n",
              "        vertical-align: middle;\n",
              "    }\n",
              "\n",
              "    .dataframe tbody tr th {\n",
              "        vertical-align: top;\n",
              "    }\n",
              "\n",
              "    .dataframe thead th {\n",
              "        text-align: right;\n",
              "    }\n",
              "</style>\n",
              "<table border=\"1\" class=\"dataframe\">\n",
              "  <thead>\n",
              "    <tr style=\"text-align: right;\">\n",
              "      <th></th>\n",
              "      <th>Tweets</th>\n",
              "      <th>Date</th>\n",
              "      <th>municipality</th>\n",
              "      <th>hashtags</th>\n",
              "    </tr>\n",
              "  </thead>\n",
              "  <tbody>\n",
              "    <tr>\n",
              "      <th>0</th>\n",
              "      <td>Meter tampering is when you cause the meter to...</td>\n",
              "      <td>2020-03-06 08:30:00</td>\n",
              "      <td>NaN</td>\n",
              "      <td>[]</td>\n",
              "    </tr>\n",
              "    <tr>\n",
              "      <th>1</th>\n",
              "      <td>Interfering with or vandalising Eskom property...</td>\n",
              "      <td>2020-03-06 06:34:00</td>\n",
              "      <td>NaN</td>\n",
              "      <td>[]</td>\n",
              "    </tr>\n",
              "    <tr>\n",
              "      <th>2</th>\n",
              "      <td>#POWERALERT 1\\n\\nDate: 06 March 2020\\n\\nNo loa...</td>\n",
              "      <td>2020-03-06 05:54:58</td>\n",
              "      <td>NaN</td>\n",
              "      <td>[#poweralert]</td>\n",
              "    </tr>\n",
              "    <tr>\n",
              "      <th>3</th>\n",
              "      <td>#Eskom #MediaStatement\\n\\nEskom notes allegati...</td>\n",
              "      <td>2020-03-05 19:28:53</td>\n",
              "      <td>NaN</td>\n",
              "      <td>[#eskom, #mediastatement]</td>\n",
              "    </tr>\n",
              "    <tr>\n",
              "      <th>4</th>\n",
              "      <td>DYK that you can report #poweroutages on MyEsk...</td>\n",
              "      <td>2020-03-05 16:00:00</td>\n",
              "      <td>NaN</td>\n",
              "      <td>[#poweroutages]</td>\n",
              "    </tr>\n",
              "    <tr>\n",
              "      <th>...</th>\n",
              "      <td>...</td>\n",
              "      <td>...</td>\n",
              "      <td>...</td>\n",
              "      <td>...</td>\n",
              "    </tr>\n",
              "    <tr>\n",
              "      <th>91</th>\n",
              "      <td>Only Eskom trained and authorized personnel ar...</td>\n",
              "      <td>2020-02-26 08:20:00</td>\n",
              "      <td>NaN</td>\n",
              "      <td>[]</td>\n",
              "    </tr>\n",
              "    <tr>\n",
              "      <th>92</th>\n",
              "      <td>#ESKOMFREESTATE #MEDIASTATEMENT\\n\\nNOTICE TO S...</td>\n",
              "      <td>2020-02-26 07:35:41</td>\n",
              "      <td>NaN</td>\n",
              "      <td>[#eskomfreestate, #mediastatement]</td>\n",
              "    </tr>\n",
              "    <tr>\n",
              "      <th>93</th>\n",
              "      <td>@Bonolo_maphutha Thanks.  We will follow-up.</td>\n",
              "      <td>2020-02-26 07:27:41</td>\n",
              "      <td>NaN</td>\n",
              "      <td>[]</td>\n",
              "    </tr>\n",
              "    <tr>\n",
              "      <th>94</th>\n",
              "      <td>@tboymunyai @GautengProvince @GautengANC @EFFS...</td>\n",
              "      <td>2020-02-26 07:26:16</td>\n",
              "      <td>NaN</td>\n",
              "      <td>[]</td>\n",
              "    </tr>\n",
              "    <tr>\n",
              "      <th>95</th>\n",
              "      <td>@tboymunyai @GautengProvince @GautengANC @EFFS...</td>\n",
              "      <td>2020-02-26 07:18:28</td>\n",
              "      <td>NaN</td>\n",
              "      <td>[]</td>\n",
              "    </tr>\n",
              "  </tbody>\n",
              "</table>\n",
              "<p>96 rows × 4 columns</p>\n",
              "</div>"
            ],
            "text/plain": [
              "                                               Tweets  ...                            hashtags\n",
              "0   Meter tampering is when you cause the meter to...  ...                                  []\n",
              "1   Interfering with or vandalising Eskom property...  ...                                  []\n",
              "2   #POWERALERT 1\\n\\nDate: 06 March 2020\\n\\nNo loa...  ...                       [#poweralert]\n",
              "3   #Eskom #MediaStatement\\n\\nEskom notes allegati...  ...           [#eskom, #mediastatement]\n",
              "4   DYK that you can report #poweroutages on MyEsk...  ...                     [#poweroutages]\n",
              "..                                                ...  ...                                 ...\n",
              "91  Only Eskom trained and authorized personnel ar...  ...                                  []\n",
              "92  #ESKOMFREESTATE #MEDIASTATEMENT\\n\\nNOTICE TO S...  ...  [#eskomfreestate, #mediastatement]\n",
              "93       @Bonolo_maphutha Thanks.  We will follow-up.  ...                                  []\n",
              "94  @tboymunyai @GautengProvince @GautengANC @EFFS...  ...                                  []\n",
              "95  @tboymunyai @GautengProvince @GautengANC @EFFS...  ...                                  []\n",
              "\n",
              "[96 rows x 4 columns]"
            ]
          },
          "metadata": {
            "tags": []
          },
          "execution_count": 85
        }
      ]
    },
    {
      "cell_type": "code",
      "metadata": {
        "id": "R9ozUNxbAPNo",
        "colab_type": "code",
        "colab": {}
      },
      "source": [
        ""
      ],
      "execution_count": 0,
      "outputs": []
    }
  ]
}