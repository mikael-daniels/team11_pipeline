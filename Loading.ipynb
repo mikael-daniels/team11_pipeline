{
  "nbformat": 4,
  "nbformat_minor": 0,
  "metadata": {
    "colab": {
      "name": "Loading.ipynb",
      "provenance": [],
      "collapsed_sections": [],
      "include_colab_link": true
    },
    "kernelspec": {
      "display_name": "Python 3",
      "language": "python",
      "name": "python3"
    },
    "language_info": {
      "codemirror_mode": {
        "name": "ipython",
        "version": 3
      },
      "file_extension": ".py",
      "mimetype": "text/x-python",
      "name": "python",
      "nbconvert_exporter": "python",
      "pygments_lexer": "ipython3",
      "version": "3.7.4"
    }
  },
  "cells": [
    {
      "cell_type": "markdown",
      "metadata": {
        "id": "view-in-github",
        "colab_type": "text"
      },
      "source": [
        "<a href=\"https://colab.research.google.com/github/mikael-daniels/team11_pipeline/blob/master/Loading.ipynb\" target=\"_parent\"><img src=\"https://colab.research.google.com/assets/colab-badge.svg\" alt=\"Open In Colab\"/></a>"
      ]
    },
    {
      "cell_type": "markdown",
      "metadata": {
        "colab_type": "text",
        "id": "t6z7ncXirnv7"
      },
      "source": [
        "# Building an ETL Pipeline\n",
        "\n",
        "As the second part of the predict for Gather, you will need to build a pipeline of functions in python which does the following:\n",
        "\n",
        "1. Function to connect to twitter and scrapes \"Eskom_SA\" tweets.\n",
        "<br>\n",
        "<br>\n",
        "2. Cleans/Processes the tweets from the scraped tweets which will create a dataframe with two new columns using the following functions: <br>\n",
        "&nbsp;&nbsp;&nbsp;&nbsp;&nbsp;&nbsp; a) Hashtag Remover from Analyse Functions\n",
        "<br>\n",
        "<br>\n",
        "3. Functions which connects to your SQL database and uploads the tweets into the table you store the tweets in the database."
      ]
    },
    {
      "cell_type": "code",
      "metadata": {
        "colab_type": "code",
        "id": "jtYowqI_RiBL",
        "colab": {}
      },
      "source": [
        "# General:\n",
        "import tweepy           # To consume Twitter's API\n",
        "import pandas as pd     # To handle data\n",
        "import numpy as np      # For numerical computation\n",
        "import json\n",
        "# For plotting and visualization:\n",
        "from IPython.display import display\n",
        "import pyodbc\n"
      ],
      "execution_count": 0,
      "outputs": []
    },
    {
      "cell_type": "markdown",
      "metadata": {
        "colab_type": "text",
        "id": "EykRIHe8ykYS"
      },
      "source": [
        "# Consumer and Access details\n",
        "\n",
        "Fill in your Consumer and Access details you should have recieved when applying for a Twitter API. "
      ]
    },
    {
      "cell_type": "code",
      "metadata": {
        "colab_type": "code",
        "id": "lquylmvOnFvt",
        "colab": {}
      },
      "source": [
        "# Consumer:\n",
        "CONSUMER_KEY    = '*************************'\n",
        "CONSUMER_SECRET = '***********************************************'\n",
        "\n",
        "# Access:\n",
        "ACCESS_TOKEN  = '*********************************************'\n",
        "ACCESS_SECRET = '*********************************************'"
      ],
      "execution_count": 0,
      "outputs": []
    },
    {
      "cell_type": "code",
      "metadata": {
        "colab_type": "code",
        "id": "01RMZH30RiBU",
        "colab": {}
      },
      "source": [
        "# API's setup:\n",
        "def twitter_setup():\n",
        "    \"\"\"\n",
        "    Utility function to setup the Twitter's API\n",
        "    with access and consumer keys from Twitter.\n",
        "    \"\"\"\n",
        "\n",
        "    # Authentication and access using keys:\n",
        "    auth = tweepy.OAuthHandler(CONSUMER_KEY, CONSUMER_SECRET)\n",
        "    auth.set_access_token(ACCESS_TOKEN, ACCESS_SECRET)\n",
        "\n",
        "    # Return API with authentication:\n",
        "    api = tweepy.API(auth, timeout=1000)\n",
        "    return api"
      ],
      "execution_count": 0,
      "outputs": []
    },
    {
      "cell_type": "markdown",
      "metadata": {
        "colab_type": "text",
        "id": "I5nbkmC9vk8F"
      },
      "source": [
        "# Function 1:\n",
        "\n",
        "Write a function which:\n",
        "- Scrapes _\"Eskom_SA\"_ tweets from Twitter. \n",
        "\n",
        "Function Specifications:\n",
        "- The function should return a dataframe with the scraped tweets with just the \"_Tweets_\" and \"_Date_\". \n",
        "- Will take in the ```consumer key,  consumer secret code, access token``` and ```access secret code```.\n",
        "\n",
        "NOTE:\n",
        "The dataframe should have the same column names as those in your SQL Database table where you store the tweets."
      ]
    },
    {
      "cell_type": "code",
      "metadata": {
        "colab_type": "code",
        "id": "eF6Vnzl3RiBX",
        "colab": {}
      },
      "source": [
        "def twitter_df(CONSUMER_KEY, CONSUMER_SECRET, ACCESS_TOKEN, ACCESS_SECRET ):\n",
        "    \n",
        "    ''' Return a new dataframe with data scraped from Twitter\n",
        "        \n",
        "        Args: 'CONSUMER_KEY', 'CONSUMER_SECRET', 'ACCESS_TOKEN', 'ACCESS_SECRET'\n",
        "\n",
        "        Returns: Dataframe with two columns: 'Tweets' and 'Date'\n",
        "    ''' \n",
        "    # Code Here\n",
        "    \n",
        "    extractor = twitter_setup()\n",
        "    \n",
        "    # We create a tweet list as follows:\n",
        "    \n",
        "    tweets = extractor.user_timeline(screen_name=\"Eskom_SA\", \n",
        "                                     count=100,\n",
        "                                     include_rts=False)\n",
        "    \n",
        "    print(f\"Number of tweets extracted: {len(tweets)}.\\n\")\n",
        "    \n",
        "    # We create a pandas dataframe as follows:\n",
        "    \n",
        "    data = pd.DataFrame(data=np.column_stack([[tweet.text for tweet in tweets],\n",
        "                                              [(tweet.created_at) for tweet in tweets]]),\n",
        "                                              columns=['Tweets','Date'])\n",
        "    \n",
        "    return data"
      ],
      "execution_count": 0,
      "outputs": []
    },
    {
      "cell_type": "markdown",
      "metadata": {
        "colab_type": "text",
        "id": "mkUQUNKzpUN2"
      },
      "source": [
        "# Function 2: Removing hashtags and the municipalities\n",
        "\n",
        "Write a function which:\n",
        "- Uses the function you wrote in the Analyse section to extract the hashtags and municipalities into it's own column in a new data frame. \n",
        "\n",
        "Function Specifications:\n",
        "- The function should take in the pandas dataframe you created in Function 1 and return a new pandas dataframe. "
      ]
    },
    {
      "cell_type": "code",
      "metadata": {
        "colab_type": "code",
        "id": "o12Z44mZRiBb",
        "outputId": "2b0ad0f0-41d3-458f-cce6-2ad93a61b87e",
        "colab": {}
      },
      "source": [
        "twitter_df(CONSUMER_KEY, CONSUMER_SECRET, ACCESS_TOKEN, ACCESS_SECRET )"
      ],
      "execution_count": 0,
      "outputs": [
        {
          "output_type": "stream",
          "text": [
            "Number of tweets extracted: 93.\n",
            "\n"
          ],
          "name": "stdout"
        },
        {
          "output_type": "execute_result",
          "data": {
            "text/html": [
              "<div>\n",
              "<style scoped>\n",
              "    .dataframe tbody tr th:only-of-type {\n",
              "        vertical-align: middle;\n",
              "    }\n",
              "\n",
              "    .dataframe tbody tr th {\n",
              "        vertical-align: top;\n",
              "    }\n",
              "\n",
              "    .dataframe thead th {\n",
              "        text-align: right;\n",
              "    }\n",
              "</style>\n",
              "<table border=\"1\" class=\"dataframe\">\n",
              "  <thead>\n",
              "    <tr style=\"text-align: right;\">\n",
              "      <th></th>\n",
              "      <th>Tweets</th>\n",
              "      <th>Date</th>\n",
              "    </tr>\n",
              "  </thead>\n",
              "  <tbody>\n",
              "    <tr>\n",
              "      <td>0</td>\n",
              "      <td>Report electricity theft anonymously to Eskom ...</td>\n",
              "      <td>2020-03-10 12:38:00</td>\n",
              "    </tr>\n",
              "    <tr>\n",
              "      <td>1</td>\n",
              "      <td>#POWERALERT 2\\n\\nDate: 10 March 2020\\n\\nStage ...</td>\n",
              "      <td>2020-03-10 11:50:38</td>\n",
              "    </tr>\n",
              "    <tr>\n",
              "      <td>2</td>\n",
              "      <td>#Chooseday: Choose to do the right thing and p...</td>\n",
              "      <td>2020-03-10 10:06:00</td>\n",
              "    </tr>\n",
              "    <tr>\n",
              "      <td>3</td>\n",
              "      <td>Prepaid pricing is based on usage/consumption ...</td>\n",
              "      <td>2020-03-10 08:30:00</td>\n",
              "    </tr>\n",
              "    <tr>\n",
              "      <td>4</td>\n",
              "      <td>@TSIKALIRA Hi, pls DM us your contact details ...</td>\n",
              "      <td>2020-03-10 06:32:50</td>\n",
              "    </tr>\n",
              "    <tr>\n",
              "      <td>...</td>\n",
              "      <td>...</td>\n",
              "      <td>...</td>\n",
              "    </tr>\n",
              "    <tr>\n",
              "      <td>88</td>\n",
              "      <td>#DYK that you can report #poweroutages via MyE...</td>\n",
              "      <td>2020-03-02 08:45:00</td>\n",
              "    </tr>\n",
              "    <tr>\n",
              "      <td>89</td>\n",
              "      <td>#POWERALERT 1\\nDate: 02 March 2020\\n\\nNo loads...</td>\n",
              "      <td>2020-03-02 07:06:17</td>\n",
              "    </tr>\n",
              "    <tr>\n",
              "      <td>90</td>\n",
              "      <td>How to use electricity efficiently at work\\n\\n...</td>\n",
              "      <td>2020-03-02 06:37:47</td>\n",
              "    </tr>\n",
              "    <tr>\n",
              "      <td>91</td>\n",
              "      <td>@MissG2040 Prepaid pricing is based on usage/ ...</td>\n",
              "      <td>2020-03-02 06:28:38</td>\n",
              "    </tr>\n",
              "    <tr>\n",
              "      <td>92</td>\n",
              "      <td>Before you leave the house, switch off or unpl...</td>\n",
              "      <td>2020-03-02 04:10:00</td>\n",
              "    </tr>\n",
              "  </tbody>\n",
              "</table>\n",
              "<p>93 rows × 2 columns</p>\n",
              "</div>"
            ],
            "text/plain": [
              "                                               Tweets                Date\n",
              "0   Report electricity theft anonymously to Eskom ... 2020-03-10 12:38:00\n",
              "1   #POWERALERT 2\\n\\nDate: 10 March 2020\\n\\nStage ... 2020-03-10 11:50:38\n",
              "2   #Chooseday: Choose to do the right thing and p... 2020-03-10 10:06:00\n",
              "3   Prepaid pricing is based on usage/consumption ... 2020-03-10 08:30:00\n",
              "4   @TSIKALIRA Hi, pls DM us your contact details ... 2020-03-10 06:32:50\n",
              "..                                                ...                 ...\n",
              "88  #DYK that you can report #poweroutages via MyE... 2020-03-02 08:45:00\n",
              "89  #POWERALERT 1\\nDate: 02 March 2020\\n\\nNo loads... 2020-03-02 07:06:17\n",
              "90  How to use electricity efficiently at work\\n\\n... 2020-03-02 06:37:47\n",
              "91  @MissG2040 Prepaid pricing is based on usage/ ... 2020-03-02 06:28:38\n",
              "92  Before you leave the house, switch off or unpl... 2020-03-02 04:10:00\n",
              "\n",
              "[93 rows x 2 columns]"
            ]
          },
          "metadata": {
            "tags": []
          },
          "execution_count": 43
        }
      ]
    },
    {
      "cell_type": "code",
      "metadata": {
        "colab_type": "code",
        "id": "UOuThS2kRiBf",
        "colab": {}
      },
      "source": [
        "def extract_municipality_hashtags(df):\n",
        "    \n",
        "    ''' Return a dataframe with hashtags and municipalities extracted, using dataframe obtained from Function 1\n",
        "\n",
        "        Args: 'df', Dataframe created by Function 1\n",
        "\n",
        "        Returns: Original dataframe, 'df', with two new columns, 'hashtags' and 'municipality'\n",
        "    '''\n",
        "    mun_dict = {'@CityofCTAlerts' : 'Cape Town',\n",
        "                '@CityPowerJhb' : 'Johannesburg',\n",
        "                '@eThekwiniM' : 'eThekwini' ,\n",
        "                '@EMMInfo' : 'Ekurhuleni',\n",
        "                '@centlecutility' : 'Mangaung',\n",
        "                '@NMBmunicipality' : 'Nelson Mandela Bay',\n",
        "                '@CityTshwane' : 'Tshwane'}\n",
        "\n",
        " \n",
        "    l = 0\n",
        "    for tweet in df['Tweets']:\n",
        "      tweet = tweet.split(' ')\n",
        "      for key in mun_dict.keys():\n",
        "        if key in tweet:\n",
        "          df.loc[l, 'municipality'] = mun_dict[key]       \n",
        "      l += 1\n",
        "\n",
        "    df['hashtags'] = df['Tweets'].str.lower().str.split()\n",
        "\n",
        "    hashtagslist = []\n",
        "    i = 0\n",
        "    for tweet in df['hashtags']:\n",
        "      hashtags = []\n",
        "      for word in tweet:\n",
        "        if word.startswith('#'):\n",
        "          hashtags.append(word)\n",
        "      hashtagslist.append(hashtags)\n",
        "      i += 1\n",
        "    \n",
        "    df['hashtags'] = hashtagslist\n",
        "\n",
        "    return df"
      ],
      "execution_count": 0,
      "outputs": []
    },
    {
      "cell_type": "markdown",
      "metadata": {
        "colab_type": "text",
        "id": "L9bXQ_k8xOjV"
      },
      "source": [
        "# Function 3: Updating SQL Database with pyODBC\n",
        "\n",
        "Write a function which:\n",
        "- Connects and updates your SQL database. \n",
        "\n",
        "Function Specifications:\n",
        "- The function should take in a pandas dataframe created in Function 2. \n",
        "- Connect to your SQL database.\n",
        "- Update the table you store your tweets in.\n",
        "- Not return any output."
      ]
    },
    {
      "cell_type": "code",
      "metadata": {
        "colab_type": "code",
        "id": "yqdiXb5JRiBo",
        "colab": {}
      },
      "source": [
        "def pyodbc_twitter(connection, df, twitter_table):\n",
        "\n",
        "    ''' Update 'Tweets' table in our SQL database\n",
        "\n",
        "      Args: 'connection', 'df', 'twitter_table'\n",
        "\n",
        "      Returns: None, only updates the 'Twitter' table\n",
        "    '''\n",
        "\n",
        "    ### Code Here\n",
        "\n",
        "    cursor = connection.cursor()\n",
        "\n",
        "    #convert the dataframe to .csv file\n",
        "    \n",
        "    twitter_table.to_csv (r'C:\\Users\\monicafar147\\Desktop\\export_dataframe.csv', index = False, header=True)\n",
        "    \n",
        "    print('reading data from Tweets table in SQL:')\n",
        "    \n",
        "    tweets = pd.read_sql_query('select * from dbo.Tweets',connection)\n",
        "   \n",
        "    return tweets"
      ],
      "execution_count": 0,
      "outputs": []
    },
    {
      "cell_type": "markdown",
      "metadata": {
        "id": "ZHtbZabTuhsh",
        "colab_type": "text"
      },
      "source": [
        "create table tweets(tweets text,dates text, municipality text, hashtags text);\n",
        "\n",
        "bulk insert tweets\n",
        "from 'C:\\Users\\monicafar147\\Desktop\\export_dataframe.csv'\n",
        "with (FIRSTROW =2, FIELDTERMINATOR=',',ROWTERMINATOR='\\n'\n",
        ");\n",
        "\n",
        "select * from tweets"
      ]
    },
    {
      "cell_type": "code",
      "metadata": {
        "colab_type": "code",
        "id": "Z0SyneGoPQLp",
        "colab": {}
      },
      "source": [
        "connection = pyodbc.connect(driver='{SQL Server}',\n",
        "                      host='EDSA-3GKPSM2\\SQLEXPRESSMON',\n",
        "                      database='gather_eskom_cleaned_columns',\n",
        "                      trusted_connection='tcon',\n",
        "                      user='sa')"
      ],
      "execution_count": 0,
      "outputs": []
    },
    {
      "cell_type": "code",
      "metadata": {
        "id": "QDSex1o7uhsm",
        "colab_type": "code",
        "outputId": "8c8e8628-631a-46ba-ff33-e0b50660ef68",
        "colab": {}
      },
      "source": [
        "df = twitter_df(CONSUMER_KEY, CONSUMER_SECRET, ACCESS_TOKEN, ACCESS_SECRET )"
      ],
      "execution_count": 0,
      "outputs": [
        {
          "output_type": "stream",
          "text": [
            "Number of tweets extracted: 92.\n",
            "\n"
          ],
          "name": "stdout"
        }
      ]
    },
    {
      "cell_type": "code",
      "metadata": {
        "id": "DMoRu5bCuhso",
        "colab_type": "code",
        "colab": {}
      },
      "source": [
        "twitter_table = extract_municipality_hashtags(df)"
      ],
      "execution_count": 0,
      "outputs": []
    },
    {
      "cell_type": "code",
      "metadata": {
        "id": "Be4GWMNcuhss",
        "colab_type": "code",
        "outputId": "01a4281f-2257-4531-8e03-b283e4126ce9",
        "colab": {}
      },
      "source": [
        "pyodbc_twitter(connection, df, twitter_table)"
      ],
      "execution_count": 0,
      "outputs": [
        {
          "output_type": "stream",
          "text": [
            "reading data from Tweets table in SQL:\n"
          ],
          "name": "stdout"
        },
        {
          "output_type": "execute_result",
          "data": {
            "text/html": [
              "<div>\n",
              "<style scoped>\n",
              "    .dataframe tbody tr th:only-of-type {\n",
              "        vertical-align: middle;\n",
              "    }\n",
              "\n",
              "    .dataframe tbody tr th {\n",
              "        vertical-align: top;\n",
              "    }\n",
              "\n",
              "    .dataframe thead th {\n",
              "        text-align: right;\n",
              "    }\n",
              "</style>\n",
              "<table border=\"1\" class=\"dataframe\">\n",
              "  <thead>\n",
              "    <tr style=\"text-align: right;\">\n",
              "      <th></th>\n",
              "      <th>tweets</th>\n",
              "      <th>dates</th>\n",
              "      <th>municipality</th>\n",
              "      <th>hashtags</th>\n",
              "    </tr>\n",
              "  </thead>\n",
              "  <tbody>\n",
              "    <tr>\n",
              "      <td>0</td>\n",
              "      <td>Report electricity theft anonymously to Eskom ...</td>\n",
              "      <td>2020-03-10 12:38:00</td>\n",
              "      <td>None</td>\n",
              "      <td>[]</td>\n",
              "    </tr>\n",
              "    <tr>\n",
              "      <td>1</td>\n",
              "      <td>\"#POWERALERT 2\\n\\nDate: 10 March 2020\\n\\nStage...</td>\n",
              "      <td>2020-03-10 11:50:38</td>\n",
              "      <td>None</td>\n",
              "      <td>['#poweralert']</td>\n",
              "    </tr>\n",
              "    <tr>\n",
              "      <td>2</td>\n",
              "      <td>\"#Chooseday: Choose to do the right thing and ...</td>\n",
              "      <td>2020-03-10 10:06:00</td>\n",
              "      <td>None</td>\n",
              "      <td>['#chooseday:']</td>\n",
              "    </tr>\n",
              "    <tr>\n",
              "      <td>3</td>\n",
              "      <td>Prepaid pricing is based on usage/consumption ...</td>\n",
              "      <td>2020-03-10 08:30:00</td>\n",
              "      <td>None</td>\n",
              "      <td>[]</td>\n",
              "    </tr>\n",
              "    <tr>\n",
              "      <td>4</td>\n",
              "      <td>\"@TSIKALIRA Hi</td>\n",
              "      <td>pls DM us your contact details and we will ge...</td>\n",
              "      <td>2020-03-10 06:32:50</td>\n",
              "      <td>,[]</td>\n",
              "    </tr>\n",
              "    <tr>\n",
              "      <td>...</td>\n",
              "      <td>...</td>\n",
              "      <td>...</td>\n",
              "      <td>...</td>\n",
              "      <td>...</td>\n",
              "    </tr>\n",
              "    <tr>\n",
              "      <td>87</td>\n",
              "      <td>\"Do the right thing and purchase only legal el...</td>\n",
              "      <td>2020-03-02 11:30:00</td>\n",
              "      <td>None</td>\n",
              "      <td>[]</td>\n",
              "    </tr>\n",
              "    <tr>\n",
              "      <td>88</td>\n",
              "      <td>#DYK that you can report #poweroutages via MyE...</td>\n",
              "      <td>2020-03-02 08:45:00</td>\n",
              "      <td>None</td>\n",
              "      <td>\"['#dyk', '#poweroutages']\"</td>\n",
              "    </tr>\n",
              "    <tr>\n",
              "      <td>89</td>\n",
              "      <td>\"#POWERALERT 1\\nDate: 02 March 2020\\n\\nNo load...</td>\n",
              "      <td>but the possibility of loadshedding has incre...</td>\n",
              "      <td>2020-03-02 07:06:17</td>\n",
              "      <td>,['#poweralert']</td>\n",
              "    </tr>\n",
              "    <tr>\n",
              "      <td>90</td>\n",
              "      <td>\"How to use electricity efficiently at work\\n\\...</td>\n",
              "      <td>2020-03-02 06:37:47</td>\n",
              "      <td>None</td>\n",
              "      <td>['#useelectricitysmartly']</td>\n",
              "    </tr>\n",
              "    <tr>\n",
              "      <td>91</td>\n",
              "      <td>@MissG2040 Prepaid pricing is based on usage/ ...</td>\n",
              "      <td>2020-03-02 06:28:38</td>\n",
              "      <td>None</td>\n",
              "      <td>[]</td>\n",
              "    </tr>\n",
              "  </tbody>\n",
              "</table>\n",
              "<p>92 rows × 4 columns</p>\n",
              "</div>"
            ],
            "text/plain": [
              "                                               tweets  \\\n",
              "0   Report electricity theft anonymously to Eskom ...   \n",
              "1   \"#POWERALERT 2\\n\\nDate: 10 March 2020\\n\\nStage...   \n",
              "2   \"#Chooseday: Choose to do the right thing and ...   \n",
              "3   Prepaid pricing is based on usage/consumption ...   \n",
              "4                                      \"@TSIKALIRA Hi   \n",
              "..                                                ...   \n",
              "87  \"Do the right thing and purchase only legal el...   \n",
              "88  #DYK that you can report #poweroutages via MyE...   \n",
              "89  \"#POWERALERT 1\\nDate: 02 March 2020\\n\\nNo load...   \n",
              "90  \"How to use electricity efficiently at work\\n\\...   \n",
              "91  @MissG2040 Prepaid pricing is based on usage/ ...   \n",
              "\n",
              "                                                dates         municipality  \\\n",
              "0                                 2020-03-10 12:38:00                 None   \n",
              "1                                 2020-03-10 11:50:38                 None   \n",
              "2                                 2020-03-10 10:06:00                 None   \n",
              "3                                 2020-03-10 08:30:00                 None   \n",
              "4    pls DM us your contact details and we will ge...  2020-03-10 06:32:50   \n",
              "..                                                ...                  ...   \n",
              "87                                2020-03-02 11:30:00                 None   \n",
              "88                                2020-03-02 08:45:00                 None   \n",
              "89   but the possibility of loadshedding has incre...  2020-03-02 07:06:17   \n",
              "90                                2020-03-02 06:37:47                 None   \n",
              "91                                2020-03-02 06:28:38                 None   \n",
              "\n",
              "                       hashtags  \n",
              "0                            []  \n",
              "1               ['#poweralert']  \n",
              "2               ['#chooseday:']  \n",
              "3                            []  \n",
              "4                           ,[]  \n",
              "..                          ...  \n",
              "87                           []  \n",
              "88  \"['#dyk', '#poweroutages']\"  \n",
              "89             ,['#poweralert']  \n",
              "90   ['#useelectricitysmartly']  \n",
              "91                           []  \n",
              "\n",
              "[92 rows x 4 columns]"
            ]
          },
          "metadata": {
            "tags": []
          },
          "execution_count": 70
        }
      ]
    },
    {
      "cell_type": "code",
      "metadata": {
        "id": "gWhTZIGsuhsv",
        "colab_type": "code",
        "colab": {}
      },
      "source": [
        ""
      ],
      "execution_count": 0,
      "outputs": []
    }
  ]
}